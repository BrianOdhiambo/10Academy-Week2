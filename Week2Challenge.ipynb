{
 "cells": [
  {
   "cell_type": "code",
   "execution_count": 1,
   "metadata": {},
   "outputs": [],
   "source": [
    "# Imports\n",
    "import pandas as pd\n",
    "import numpy as np\n",
    "import matplotlib.pyplot as plt\n",
    "import seaborn as sns\n",
    "sns.set()\n"
   ]
  },
  {
   "cell_type": "code",
   "execution_count": 2,
   "metadata": {},
   "outputs": [],
   "source": [
    "%matplotlib inline"
   ]
  },
  {
   "cell_type": "code",
   "execution_count": 3,
   "metadata": {},
   "outputs": [],
   "source": [
    "# Importing data source file\n",
    "df = pd.read_excel(\"Week2_challenge_data_source.xlsx\")"
   ]
  },
  {
   "cell_type": "code",
   "execution_count": 4,
   "metadata": {},
   "outputs": [
    {
     "name": "stdout",
     "output_type": "stream",
     "text": [
      "<class 'pandas.core.frame.DataFrame'>\n",
      "RangeIndex: 150001 entries, 0 to 150000\n",
      "Data columns (total 55 columns):\n",
      "Bearer Id                                   150001 non-null object\n",
      "Start                                       150000 non-null datetime64[ns]\n",
      "Start ms                                    150000 non-null float64\n",
      "End                                         150000 non-null datetime64[ns]\n",
      "End ms                                      150000 non-null float64\n",
      "Dur. (ms)                                   150000 non-null float64\n",
      "IMSI                                        149431 non-null float64\n",
      "MSISDN/Number                               148935 non-null float64\n",
      "IMEI                                        149429 non-null float64\n",
      "Last Location Name                          148848 non-null object\n",
      "Avg RTT DL (ms)                             122172 non-null float64\n",
      "Avg RTT UL (ms)                             122189 non-null float64\n",
      "Avg Bearer TP DL (kbps)                     150000 non-null float64\n",
      "Avg Bearer TP UL (kbps)                     150000 non-null float64\n",
      "TCP DL Retrans. Vol (Bytes)                 61855 non-null float64\n",
      "TCP UL Retrans. Vol (Bytes)                 53352 non-null float64\n",
      "DL TP < 50 Kbps (%)                         149247 non-null float64\n",
      "50 Kbps < DL TP < 250 Kbps (%)              149247 non-null float64\n",
      "250 Kbps < DL TP < 1 Mbps (%)               149247 non-null float64\n",
      "DL TP > 1 Mbps (%)                          149247 non-null float64\n",
      "UL TP < 10 Kbps (%)                         149209 non-null float64\n",
      "10 Kbps < UL TP < 50 Kbps (%)               149209 non-null float64\n",
      "50 Kbps < UL TP < 300 Kbps (%)              149209 non-null float64\n",
      "UL TP > 300 Kbps (%)                        149209 non-null float64\n",
      "HTTP DL (Bytes)                             68527 non-null float64\n",
      "HTTP UL (Bytes)                             68191 non-null float64\n",
      "Activity Duration DL (ms)                   150000 non-null float64\n",
      "Activity Duration UL (ms)                   150000 non-null float64\n",
      "Dur. (ms).1                                 150000 non-null float64\n",
      "Handset Manufacturer                        149429 non-null object\n",
      "Handset Type                                149429 non-null object\n",
      "Nb of sec with 125000B < Vol DL             52463 non-null float64\n",
      "Nb of sec with 1250B < Vol UL < 6250B       57107 non-null float64\n",
      "Nb of sec with 31250B < Vol DL < 125000B    56415 non-null float64\n",
      "Nb of sec with 37500B < Vol UL              19747 non-null float64\n",
      "Nb of sec with 6250B < Vol DL < 31250B      61684 non-null float64\n",
      "Nb of sec with 6250B < Vol UL < 37500B      38158 non-null float64\n",
      "Nb of sec with Vol DL < 6250B               149246 non-null float64\n",
      "Nb of sec with Vol UL < 1250B               149208 non-null float64\n",
      "Social Media DL (Bytes)                     150001 non-null float64\n",
      "Social Media UL (Bytes)                     150001 non-null float64\n",
      "Google DL (Bytes)                           150001 non-null float64\n",
      "Google UL (Bytes)                           150001 non-null float64\n",
      "Email DL (Bytes)                            150001 non-null float64\n",
      "Email UL (Bytes)                            150001 non-null float64\n",
      "Youtube DL (Bytes)                          150001 non-null float64\n",
      "Youtube UL (Bytes)                          150001 non-null float64\n",
      "Netflix DL (Bytes)                          150001 non-null float64\n",
      "Netflix UL (Bytes)                          150001 non-null float64\n",
      "Gaming DL (Bytes)                           150001 non-null float64\n",
      "Gaming UL (Bytes)                           150001 non-null float64\n",
      "Other DL (Bytes)                            150001 non-null float64\n",
      "Other UL (Bytes)                            150001 non-null float64\n",
      "Total UL (Bytes)                            150000 non-null float64\n",
      "Total DL (Bytes)                            150000 non-null float64\n",
      "dtypes: datetime64[ns](2), float64(49), object(4)\n",
      "memory usage: 62.9+ MB\n"
     ]
    }
   ],
   "source": [
    "\"\"\"\n",
    "Using .info() to get basic structure of the dataframe.\n",
    "\"\"\"\n",
    "df.info()"
   ]
  },
  {
   "cell_type": "markdown",
   "metadata": {},
   "source": [
    "There are 15001 rows and 55 columns. The dataframe contains most columns with float data type and a few date time and object data types.\n",
    "A number of columns have missing values "
   ]
  },
  {
   "cell_type": "code",
   "execution_count": 5,
   "metadata": {},
   "outputs": [
    {
     "data": {
      "text/plain": [
       "(150001, 55)"
      ]
     },
     "execution_count": 5,
     "metadata": {},
     "output_type": "execute_result"
    }
   ],
   "source": [
    "df.shape"
   ]
  },
  {
   "cell_type": "markdown",
   "metadata": {},
   "source": [
    "## Summary Statistics"
   ]
  },
  {
   "cell_type": "code",
   "execution_count": 6,
   "metadata": {},
   "outputs": [
    {
     "data": {
      "text/html": [
       "<div>\n",
       "<style scoped>\n",
       "    .dataframe tbody tr th:only-of-type {\n",
       "        vertical-align: middle;\n",
       "    }\n",
       "\n",
       "    .dataframe tbody tr th {\n",
       "        vertical-align: top;\n",
       "    }\n",
       "\n",
       "    .dataframe thead th {\n",
       "        text-align: right;\n",
       "    }\n",
       "</style>\n",
       "<table border=\"1\" class=\"dataframe\">\n",
       "  <thead>\n",
       "    <tr style=\"text-align: right;\">\n",
       "      <th></th>\n",
       "      <th>Bearer Id</th>\n",
       "      <th>Start</th>\n",
       "      <th>Start ms</th>\n",
       "      <th>End</th>\n",
       "      <th>End ms</th>\n",
       "      <th>Dur. (ms)</th>\n",
       "      <th>IMSI</th>\n",
       "      <th>MSISDN/Number</th>\n",
       "      <th>IMEI</th>\n",
       "      <th>Last Location Name</th>\n",
       "      <th>...</th>\n",
       "      <th>Youtube DL (Bytes)</th>\n",
       "      <th>Youtube UL (Bytes)</th>\n",
       "      <th>Netflix DL (Bytes)</th>\n",
       "      <th>Netflix UL (Bytes)</th>\n",
       "      <th>Gaming DL (Bytes)</th>\n",
       "      <th>Gaming UL (Bytes)</th>\n",
       "      <th>Other DL (Bytes)</th>\n",
       "      <th>Other UL (Bytes)</th>\n",
       "      <th>Total UL (Bytes)</th>\n",
       "      <th>Total DL (Bytes)</th>\n",
       "    </tr>\n",
       "  </thead>\n",
       "  <tbody>\n",
       "    <tr>\n",
       "      <td>count</td>\n",
       "      <td>150001</td>\n",
       "      <td>150000</td>\n",
       "      <td>150000.000000</td>\n",
       "      <td>150000</td>\n",
       "      <td>150000.000000</td>\n",
       "      <td>1.500000e+05</td>\n",
       "      <td>1.494310e+05</td>\n",
       "      <td>1.489350e+05</td>\n",
       "      <td>1.494290e+05</td>\n",
       "      <td>148848</td>\n",
       "      <td>...</td>\n",
       "      <td>1.500010e+05</td>\n",
       "      <td>1.500010e+05</td>\n",
       "      <td>1.500010e+05</td>\n",
       "      <td>1.500010e+05</td>\n",
       "      <td>1.500010e+05</td>\n",
       "      <td>1.500010e+05</td>\n",
       "      <td>1.500010e+05</td>\n",
       "      <td>1.500010e+05</td>\n",
       "      <td>1.500000e+05</td>\n",
       "      <td>1.500000e+05</td>\n",
       "    </tr>\n",
       "    <tr>\n",
       "      <td>unique</td>\n",
       "      <td>134709</td>\n",
       "      <td>111881</td>\n",
       "      <td>NaN</td>\n",
       "      <td>100962</td>\n",
       "      <td>NaN</td>\n",
       "      <td>NaN</td>\n",
       "      <td>NaN</td>\n",
       "      <td>NaN</td>\n",
       "      <td>NaN</td>\n",
       "      <td>45547</td>\n",
       "      <td>...</td>\n",
       "      <td>NaN</td>\n",
       "      <td>NaN</td>\n",
       "      <td>NaN</td>\n",
       "      <td>NaN</td>\n",
       "      <td>NaN</td>\n",
       "      <td>NaN</td>\n",
       "      <td>NaN</td>\n",
       "      <td>NaN</td>\n",
       "      <td>NaN</td>\n",
       "      <td>NaN</td>\n",
       "    </tr>\n",
       "    <tr>\n",
       "      <td>top</td>\n",
       "      <td></td>\n",
       "      <td>2019-04-29 07:08:38</td>\n",
       "      <td>NaN</td>\n",
       "      <td>2019-04-25 00:01:33</td>\n",
       "      <td>NaN</td>\n",
       "      <td>NaN</td>\n",
       "      <td>NaN</td>\n",
       "      <td>NaN</td>\n",
       "      <td>NaN</td>\n",
       "      <td>D41377B</td>\n",
       "      <td>...</td>\n",
       "      <td>NaN</td>\n",
       "      <td>NaN</td>\n",
       "      <td>NaN</td>\n",
       "      <td>NaN</td>\n",
       "      <td>NaN</td>\n",
       "      <td>NaN</td>\n",
       "      <td>NaN</td>\n",
       "      <td>NaN</td>\n",
       "      <td>NaN</td>\n",
       "      <td>NaN</td>\n",
       "    </tr>\n",
       "    <tr>\n",
       "      <td>freq</td>\n",
       "      <td>991</td>\n",
       "      <td>14</td>\n",
       "      <td>NaN</td>\n",
       "      <td>65</td>\n",
       "      <td>NaN</td>\n",
       "      <td>NaN</td>\n",
       "      <td>NaN</td>\n",
       "      <td>NaN</td>\n",
       "      <td>NaN</td>\n",
       "      <td>80</td>\n",
       "      <td>...</td>\n",
       "      <td>NaN</td>\n",
       "      <td>NaN</td>\n",
       "      <td>NaN</td>\n",
       "      <td>NaN</td>\n",
       "      <td>NaN</td>\n",
       "      <td>NaN</td>\n",
       "      <td>NaN</td>\n",
       "      <td>NaN</td>\n",
       "      <td>NaN</td>\n",
       "      <td>NaN</td>\n",
       "    </tr>\n",
       "    <tr>\n",
       "      <td>first</td>\n",
       "      <td>NaN</td>\n",
       "      <td>2019-04-04 12:01:18</td>\n",
       "      <td>NaN</td>\n",
       "      <td>2019-04-24 22:59:58</td>\n",
       "      <td>NaN</td>\n",
       "      <td>NaN</td>\n",
       "      <td>NaN</td>\n",
       "      <td>NaN</td>\n",
       "      <td>NaN</td>\n",
       "      <td>NaN</td>\n",
       "      <td>...</td>\n",
       "      <td>NaN</td>\n",
       "      <td>NaN</td>\n",
       "      <td>NaN</td>\n",
       "      <td>NaN</td>\n",
       "      <td>NaN</td>\n",
       "      <td>NaN</td>\n",
       "      <td>NaN</td>\n",
       "      <td>NaN</td>\n",
       "      <td>NaN</td>\n",
       "      <td>NaN</td>\n",
       "    </tr>\n",
       "    <tr>\n",
       "      <td>last</td>\n",
       "      <td>NaN</td>\n",
       "      <td>2019-04-29 07:28:43</td>\n",
       "      <td>NaN</td>\n",
       "      <td>2019-04-30 23:59:27</td>\n",
       "      <td>NaN</td>\n",
       "      <td>NaN</td>\n",
       "      <td>NaN</td>\n",
       "      <td>NaN</td>\n",
       "      <td>NaN</td>\n",
       "      <td>NaN</td>\n",
       "      <td>...</td>\n",
       "      <td>NaN</td>\n",
       "      <td>NaN</td>\n",
       "      <td>NaN</td>\n",
       "      <td>NaN</td>\n",
       "      <td>NaN</td>\n",
       "      <td>NaN</td>\n",
       "      <td>NaN</td>\n",
       "      <td>NaN</td>\n",
       "      <td>NaN</td>\n",
       "      <td>NaN</td>\n",
       "    </tr>\n",
       "    <tr>\n",
       "      <td>mean</td>\n",
       "      <td>NaN</td>\n",
       "      <td>NaN</td>\n",
       "      <td>499.188200</td>\n",
       "      <td>NaN</td>\n",
       "      <td>498.800880</td>\n",
       "      <td>1.046086e+05</td>\n",
       "      <td>2.082016e+14</td>\n",
       "      <td>4.188282e+10</td>\n",
       "      <td>4.847455e+13</td>\n",
       "      <td>NaN</td>\n",
       "      <td>...</td>\n",
       "      <td>1.163407e+07</td>\n",
       "      <td>1.100941e+07</td>\n",
       "      <td>1.162685e+07</td>\n",
       "      <td>1.100175e+07</td>\n",
       "      <td>4.220447e+08</td>\n",
       "      <td>8.288398e+06</td>\n",
       "      <td>4.211005e+08</td>\n",
       "      <td>8.264799e+06</td>\n",
       "      <td>4.112121e+07</td>\n",
       "      <td>4.546434e+08</td>\n",
       "    </tr>\n",
       "    <tr>\n",
       "      <td>std</td>\n",
       "      <td>NaN</td>\n",
       "      <td>NaN</td>\n",
       "      <td>288.611834</td>\n",
       "      <td>NaN</td>\n",
       "      <td>288.097653</td>\n",
       "      <td>8.103762e+04</td>\n",
       "      <td>2.148809e+10</td>\n",
       "      <td>2.447443e+12</td>\n",
       "      <td>2.241637e+13</td>\n",
       "      <td>NaN</td>\n",
       "      <td>...</td>\n",
       "      <td>6.710569e+06</td>\n",
       "      <td>6.345423e+06</td>\n",
       "      <td>6.725218e+06</td>\n",
       "      <td>6.359490e+06</td>\n",
       "      <td>2.439675e+08</td>\n",
       "      <td>4.782700e+06</td>\n",
       "      <td>2.432050e+08</td>\n",
       "      <td>4.769004e+06</td>\n",
       "      <td>1.127639e+07</td>\n",
       "      <td>2.441429e+08</td>\n",
       "    </tr>\n",
       "    <tr>\n",
       "      <td>min</td>\n",
       "      <td>NaN</td>\n",
       "      <td>NaN</td>\n",
       "      <td>0.000000</td>\n",
       "      <td>NaN</td>\n",
       "      <td>0.000000</td>\n",
       "      <td>7.142000e+03</td>\n",
       "      <td>2.040471e+14</td>\n",
       "      <td>3.360100e+10</td>\n",
       "      <td>4.400152e+11</td>\n",
       "      <td>NaN</td>\n",
       "      <td>...</td>\n",
       "      <td>5.300000e+01</td>\n",
       "      <td>1.050000e+02</td>\n",
       "      <td>4.200000e+01</td>\n",
       "      <td>3.500000e+01</td>\n",
       "      <td>2.516000e+03</td>\n",
       "      <td>5.900000e+01</td>\n",
       "      <td>3.290000e+03</td>\n",
       "      <td>1.480000e+02</td>\n",
       "      <td>2.866892e+06</td>\n",
       "      <td>7.114041e+06</td>\n",
       "    </tr>\n",
       "    <tr>\n",
       "      <td>25%</td>\n",
       "      <td>NaN</td>\n",
       "      <td>NaN</td>\n",
       "      <td>250.000000</td>\n",
       "      <td>NaN</td>\n",
       "      <td>251.000000</td>\n",
       "      <td>5.744050e+04</td>\n",
       "      <td>2.082014e+14</td>\n",
       "      <td>3.365130e+10</td>\n",
       "      <td>3.546071e+13</td>\n",
       "      <td>NaN</td>\n",
       "      <td>...</td>\n",
       "      <td>5.833501e+06</td>\n",
       "      <td>5.517965e+06</td>\n",
       "      <td>5.777156e+06</td>\n",
       "      <td>5.475981e+06</td>\n",
       "      <td>2.104733e+08</td>\n",
       "      <td>4.128476e+06</td>\n",
       "      <td>2.101869e+08</td>\n",
       "      <td>4.145943e+06</td>\n",
       "      <td>3.322201e+07</td>\n",
       "      <td>2.431068e+08</td>\n",
       "    </tr>\n",
       "    <tr>\n",
       "      <td>50%</td>\n",
       "      <td>NaN</td>\n",
       "      <td>NaN</td>\n",
       "      <td>499.000000</td>\n",
       "      <td>NaN</td>\n",
       "      <td>500.000000</td>\n",
       "      <td>8.639900e+04</td>\n",
       "      <td>2.082015e+14</td>\n",
       "      <td>3.366371e+10</td>\n",
       "      <td>3.572201e+13</td>\n",
       "      <td>NaN</td>\n",
       "      <td>...</td>\n",
       "      <td>1.161602e+07</td>\n",
       "      <td>1.101345e+07</td>\n",
       "      <td>1.164222e+07</td>\n",
       "      <td>1.099638e+07</td>\n",
       "      <td>4.234081e+08</td>\n",
       "      <td>8.291208e+06</td>\n",
       "      <td>4.218030e+08</td>\n",
       "      <td>8.267071e+06</td>\n",
       "      <td>4.114331e+07</td>\n",
       "      <td>4.558411e+08</td>\n",
       "    </tr>\n",
       "    <tr>\n",
       "      <td>75%</td>\n",
       "      <td>NaN</td>\n",
       "      <td>NaN</td>\n",
       "      <td>749.000000</td>\n",
       "      <td>NaN</td>\n",
       "      <td>750.000000</td>\n",
       "      <td>1.324302e+05</td>\n",
       "      <td>2.082018e+14</td>\n",
       "      <td>3.368349e+10</td>\n",
       "      <td>8.611970e+13</td>\n",
       "      <td>NaN</td>\n",
       "      <td>...</td>\n",
       "      <td>1.744852e+07</td>\n",
       "      <td>1.651556e+07</td>\n",
       "      <td>1.747048e+07</td>\n",
       "      <td>1.650727e+07</td>\n",
       "      <td>6.331742e+08</td>\n",
       "      <td>1.243162e+07</td>\n",
       "      <td>6.316918e+08</td>\n",
       "      <td>1.238415e+07</td>\n",
       "      <td>4.903424e+07</td>\n",
       "      <td>6.657055e+08</td>\n",
       "    </tr>\n",
       "    <tr>\n",
       "      <td>max</td>\n",
       "      <td>NaN</td>\n",
       "      <td>NaN</td>\n",
       "      <td>999.000000</td>\n",
       "      <td>NaN</td>\n",
       "      <td>999.000000</td>\n",
       "      <td>1.859336e+06</td>\n",
       "      <td>2.140743e+14</td>\n",
       "      <td>8.823971e+14</td>\n",
       "      <td>9.900120e+13</td>\n",
       "      <td>NaN</td>\n",
       "      <td>...</td>\n",
       "      <td>2.325910e+07</td>\n",
       "      <td>2.201196e+07</td>\n",
       "      <td>2.325919e+07</td>\n",
       "      <td>2.201196e+07</td>\n",
       "      <td>8.434419e+08</td>\n",
       "      <td>1.655879e+07</td>\n",
       "      <td>8.434425e+08</td>\n",
       "      <td>1.655882e+07</td>\n",
       "      <td>7.833131e+07</td>\n",
       "      <td>9.029696e+08</td>\n",
       "    </tr>\n",
       "  </tbody>\n",
       "</table>\n",
       "<p>13 rows × 55 columns</p>\n",
       "</div>"
      ],
      "text/plain": [
       "       Bearer Id                Start       Start ms                  End  \\\n",
       "count     150001               150000  150000.000000               150000   \n",
       "unique    134709               111881            NaN               100962   \n",
       "top               2019-04-29 07:08:38            NaN  2019-04-25 00:01:33   \n",
       "freq         991                   14            NaN                   65   \n",
       "first        NaN  2019-04-04 12:01:18            NaN  2019-04-24 22:59:58   \n",
       "last         NaN  2019-04-29 07:28:43            NaN  2019-04-30 23:59:27   \n",
       "mean         NaN                  NaN     499.188200                  NaN   \n",
       "std          NaN                  NaN     288.611834                  NaN   \n",
       "min          NaN                  NaN       0.000000                  NaN   \n",
       "25%          NaN                  NaN     250.000000                  NaN   \n",
       "50%          NaN                  NaN     499.000000                  NaN   \n",
       "75%          NaN                  NaN     749.000000                  NaN   \n",
       "max          NaN                  NaN     999.000000                  NaN   \n",
       "\n",
       "               End ms     Dur. (ms)          IMSI  MSISDN/Number  \\\n",
       "count   150000.000000  1.500000e+05  1.494310e+05   1.489350e+05   \n",
       "unique            NaN           NaN           NaN            NaN   \n",
       "top               NaN           NaN           NaN            NaN   \n",
       "freq              NaN           NaN           NaN            NaN   \n",
       "first             NaN           NaN           NaN            NaN   \n",
       "last              NaN           NaN           NaN            NaN   \n",
       "mean       498.800880  1.046086e+05  2.082016e+14   4.188282e+10   \n",
       "std        288.097653  8.103762e+04  2.148809e+10   2.447443e+12   \n",
       "min          0.000000  7.142000e+03  2.040471e+14   3.360100e+10   \n",
       "25%        251.000000  5.744050e+04  2.082014e+14   3.365130e+10   \n",
       "50%        500.000000  8.639900e+04  2.082015e+14   3.366371e+10   \n",
       "75%        750.000000  1.324302e+05  2.082018e+14   3.368349e+10   \n",
       "max        999.000000  1.859336e+06  2.140743e+14   8.823971e+14   \n",
       "\n",
       "                IMEI Last Location Name  ...  Youtube DL (Bytes)  \\\n",
       "count   1.494290e+05             148848  ...        1.500010e+05   \n",
       "unique           NaN              45547  ...                 NaN   \n",
       "top              NaN            D41377B  ...                 NaN   \n",
       "freq             NaN                 80  ...                 NaN   \n",
       "first            NaN                NaN  ...                 NaN   \n",
       "last             NaN                NaN  ...                 NaN   \n",
       "mean    4.847455e+13                NaN  ...        1.163407e+07   \n",
       "std     2.241637e+13                NaN  ...        6.710569e+06   \n",
       "min     4.400152e+11                NaN  ...        5.300000e+01   \n",
       "25%     3.546071e+13                NaN  ...        5.833501e+06   \n",
       "50%     3.572201e+13                NaN  ...        1.161602e+07   \n",
       "75%     8.611970e+13                NaN  ...        1.744852e+07   \n",
       "max     9.900120e+13                NaN  ...        2.325910e+07   \n",
       "\n",
       "        Youtube UL (Bytes)  Netflix DL (Bytes)  Netflix UL (Bytes)  \\\n",
       "count         1.500010e+05        1.500010e+05        1.500010e+05   \n",
       "unique                 NaN                 NaN                 NaN   \n",
       "top                    NaN                 NaN                 NaN   \n",
       "freq                   NaN                 NaN                 NaN   \n",
       "first                  NaN                 NaN                 NaN   \n",
       "last                   NaN                 NaN                 NaN   \n",
       "mean          1.100941e+07        1.162685e+07        1.100175e+07   \n",
       "std           6.345423e+06        6.725218e+06        6.359490e+06   \n",
       "min           1.050000e+02        4.200000e+01        3.500000e+01   \n",
       "25%           5.517965e+06        5.777156e+06        5.475981e+06   \n",
       "50%           1.101345e+07        1.164222e+07        1.099638e+07   \n",
       "75%           1.651556e+07        1.747048e+07        1.650727e+07   \n",
       "max           2.201196e+07        2.325919e+07        2.201196e+07   \n",
       "\n",
       "        Gaming DL (Bytes)  Gaming UL (Bytes)  Other DL (Bytes)  \\\n",
       "count        1.500010e+05       1.500010e+05      1.500010e+05   \n",
       "unique                NaN                NaN               NaN   \n",
       "top                   NaN                NaN               NaN   \n",
       "freq                  NaN                NaN               NaN   \n",
       "first                 NaN                NaN               NaN   \n",
       "last                  NaN                NaN               NaN   \n",
       "mean         4.220447e+08       8.288398e+06      4.211005e+08   \n",
       "std          2.439675e+08       4.782700e+06      2.432050e+08   \n",
       "min          2.516000e+03       5.900000e+01      3.290000e+03   \n",
       "25%          2.104733e+08       4.128476e+06      2.101869e+08   \n",
       "50%          4.234081e+08       8.291208e+06      4.218030e+08   \n",
       "75%          6.331742e+08       1.243162e+07      6.316918e+08   \n",
       "max          8.434419e+08       1.655879e+07      8.434425e+08   \n",
       "\n",
       "        Other UL (Bytes)  Total UL (Bytes)  Total DL (Bytes)  \n",
       "count       1.500010e+05      1.500000e+05      1.500000e+05  \n",
       "unique               NaN               NaN               NaN  \n",
       "top                  NaN               NaN               NaN  \n",
       "freq                 NaN               NaN               NaN  \n",
       "first                NaN               NaN               NaN  \n",
       "last                 NaN               NaN               NaN  \n",
       "mean        8.264799e+06      4.112121e+07      4.546434e+08  \n",
       "std         4.769004e+06      1.127639e+07      2.441429e+08  \n",
       "min         1.480000e+02      2.866892e+06      7.114041e+06  \n",
       "25%         4.145943e+06      3.322201e+07      2.431068e+08  \n",
       "50%         8.267071e+06      4.114331e+07      4.558411e+08  \n",
       "75%         1.238415e+07      4.903424e+07      6.657055e+08  \n",
       "max         1.655882e+07      7.833131e+07      9.029696e+08  \n",
       "\n",
       "[13 rows x 55 columns]"
      ]
     },
     "execution_count": 6,
     "metadata": {},
     "output_type": "execute_result"
    }
   ],
   "source": [
    "df.describe(include='all')"
   ]
  },
  {
   "cell_type": "markdown",
   "metadata": {},
   "source": [
    "# Unique values"
   ]
  },
  {
   "cell_type": "code",
   "execution_count": 8,
   "metadata": {},
   "outputs": [
    {
     "data": {
      "text/plain": [
       "Bearer Id                                   134709\n",
       "Start                                       111881\n",
       "Start ms                                      1000\n",
       "End                                         100962\n",
       "End ms                                        1000\n",
       "Dur. (ms)                                    89525\n",
       "IMSI                                        107265\n",
       "MSISDN/Number                               106856\n",
       "IMEI                                        107270\n",
       "Last Location Name                           45547\n",
       "Avg RTT DL (ms)                               2130\n",
       "Avg RTT UL (ms)                                722\n",
       "Avg Bearer TP DL (kbps)                      41753\n",
       "Avg Bearer TP UL (kbps)                      14528\n",
       "TCP DL Retrans. Vol (Bytes)                  54399\n",
       "TCP UL Retrans. Vol (Bytes)                  35120\n",
       "DL TP < 50 Kbps (%)                            100\n",
       "50 Kbps < DL TP < 250 Kbps (%)                  84\n",
       "250 Kbps < DL TP < 1 Mbps (%)                   73\n",
       "DL TP > 1 Mbps (%)                              85\n",
       "UL TP < 10 Kbps (%)                             98\n",
       "10 Kbps < UL TP < 50 Kbps (%)                   85\n",
       "50 Kbps < UL TP < 300 Kbps (%)                  68\n",
       "UL TP > 300 Kbps (%)                            63\n",
       "HTTP DL (Bytes)                              63527\n",
       "HTTP UL (Bytes)                              59942\n",
       "Activity Duration DL (ms)                   102560\n",
       "Activity Duration UL (ms)                   106292\n",
       "Dur. (ms).1                                 122871\n",
       "Handset Manufacturer                           170\n",
       "Handset Type                                  1396\n",
       "Nb of sec with 125000B < Vol DL               6458\n",
       "Nb of sec with 1250B < Vol UL < 6250B         3398\n",
       "Nb of sec with 31250B < Vol DL < 125000B      5755\n",
       "Nb of sec with 37500B < Vol UL                1104\n",
       "Nb of sec with 6250B < Vol DL < 31250B        6172\n",
       "Nb of sec with 6250B < Vol UL < 37500B        1710\n",
       "Nb of sec with Vol DL < 6250B                22270\n",
       "Nb of sec with Vol UL < 1250B                22976\n",
       "Social Media DL (Bytes)                     146856\n",
       "Social Media UL (Bytes)                      59078\n",
       "Google DL (Bytes)                           149024\n",
       "Google UL (Bytes)                           147267\n",
       "Email DL (Bytes)                            146916\n",
       "Email UL (Bytes)                            138699\n",
       "Youtube DL (Bytes)                          149547\n",
       "Youtube UL (Bytes)                          149477\n",
       "Netflix DL (Bytes)                          149518\n",
       "Netflix UL (Bytes)                          149490\n",
       "Gaming DL (Bytes)                           149983\n",
       "Gaming UL (Bytes)                           149316\n",
       "Other DL (Bytes)                            149986\n",
       "Other UL (Bytes)                            149284\n",
       "Total UL (Bytes)                            149728\n",
       "Total DL (Bytes)                            149987\n",
       "dtype: int64"
      ]
     },
     "execution_count": 8,
     "metadata": {},
     "output_type": "execute_result"
    }
   ],
   "source": [
    "df.nunique()"
   ]
  },
  {
   "cell_type": "markdown",
   "metadata": {},
   "source": [
    "## Distributions"
   ]
  },
  {
   "cell_type": "code",
   "execution_count": 9,
   "metadata": {},
   "outputs": [
    {
     "data": {
      "image/png": "[encoded data removed]",
      "text/plain": [
       "<Figure size 1152x504 with 6 Axes>"
      ]
     },
     "metadata": {
      "needs_background": "light"
     },
     "output_type": "display_data"
    }
   ],
   "source": [
    "f, ax_arr = plt.subplots(3,2, figsize=(16,7))\n",
    "\n",
    "# Plot 1.1\n",
    "ax_arr[0,0].hist(df['Social Media UL (Bytes)'], bins=30, color='c')\n",
    "ax_arr[0,0].set_title('Histogram : Social Media UL (Bytes)')\n",
    "ax_arr[0,0].set_xlabel('Bins')\n",
    "ax_arr[0,0].set_ylabel('Frequency')\n",
    "\n",
    "# Plot 1.2\n",
    "ax_arr[0,1].hist(df['Social Media DL (Bytes)'], bins=30, color='c')\n",
    "ax_arr[0,1].set_title('Histogram : Social Media DL (Bytes)')\n",
    "ax_arr[0,1].set_xlabel('Bins')\n",
    "ax_arr[0,1].set_ylabel('Frequency')\n",
    "\n",
    "# Plot 2.1\n",
    "ax_arr[1,0].hist(df['Google UL (Bytes)'], bins=30, color='c')\n",
    "ax_arr[1,0].set_title('Histogram : Google UL (Bytes)')\n",
    "ax_arr[1,0].set_xlabel('Bins')\n",
    "ax_arr[1,0].set_ylabel('Frequency')\n",
    "\n",
    "# Plot 2.2\n",
    "ax_arr[1,1].hist(df['Google DL (Bytes)'], bins=30, color='c')\n",
    "ax_arr[1,1].set_title('Histogram : Google DL (Bytes)')\n",
    "ax_arr[1,1].set_xlabel('Bins')\n",
    "ax_arr[1,1].set_ylabel('Frequency')\n",
    "\n",
    "# Plot 3.1\n",
    "ax_arr[2,0].hist(df['Email UL (Bytes)'], bins=30, color='c')\n",
    "ax_arr[2,0].set_title('Histogram : Email UL (Bytes)')\n",
    "ax_arr[2,0].set_xlabel('Bins')\n",
    "ax_arr[2,0].set_ylabel('Frequency')\n",
    "\n",
    "# Plot 3.2\n",
    "ax_arr[2,1].hist(df['Email DL (Bytes)'], bins=30, color='c')\n",
    "ax_arr[2,1].set_title('Histogram : Email DL (Bytes)')\n",
    "ax_arr[2,1].set_xlabel('Bins')\n",
    "ax_arr[2,1].set_ylabel('Frequency')\n",
    "\n",
    "plt.tight_layout()\n",
    "plt.show()"
   ]
  },
  {
   "cell_type": "markdown",
   "metadata": {},
   "source": [
    "The histograms used shows uniform distribution of both upload and download data frequencies for all the three applications displayed above"
   ]
  },
  {
   "cell_type": "markdown",
   "metadata": {},
   "source": [
    "## Dealing with missing values "
   ]
  },
  {
   "cell_type": "code",
   "execution_count": 10,
   "metadata": {},
   "outputs": [
    {
     "data": {
      "text/plain": [
       "Bearer Id                                        0\n",
       "Start                                            1\n",
       "Start ms                                         1\n",
       "End                                              1\n",
       "End ms                                           1\n",
       "Dur. (ms)                                        1\n",
       "IMSI                                           570\n",
       "MSISDN/Number                                 1066\n",
       "IMEI                                           572\n",
       "Last Location Name                            1153\n",
       "Avg RTT DL (ms)                              27829\n",
       "Avg RTT UL (ms)                              27812\n",
       "Avg Bearer TP DL (kbps)                          1\n",
       "Avg Bearer TP UL (kbps)                          1\n",
       "TCP DL Retrans. Vol (Bytes)                  88146\n",
       "TCP UL Retrans. Vol (Bytes)                  96649\n",
       "DL TP < 50 Kbps (%)                            754\n",
       "50 Kbps < DL TP < 250 Kbps (%)                 754\n",
       "250 Kbps < DL TP < 1 Mbps (%)                  754\n",
       "DL TP > 1 Mbps (%)                             754\n",
       "UL TP < 10 Kbps (%)                            792\n",
       "10 Kbps < UL TP < 50 Kbps (%)                  792\n",
       "50 Kbps < UL TP < 300 Kbps (%)                 792\n",
       "UL TP > 300 Kbps (%)                           792\n",
       "HTTP DL (Bytes)                              81474\n",
       "HTTP UL (Bytes)                              81810\n",
       "Activity Duration DL (ms)                        1\n",
       "Activity Duration UL (ms)                        1\n",
       "Dur. (ms).1                                      1\n",
       "Handset Manufacturer                           572\n",
       "Handset Type                                   572\n",
       "Nb of sec with 125000B < Vol DL              97538\n",
       "Nb of sec with 1250B < Vol UL < 6250B        92894\n",
       "Nb of sec with 31250B < Vol DL < 125000B     93586\n",
       "Nb of sec with 37500B < Vol UL              130254\n",
       "Nb of sec with 6250B < Vol DL < 31250B       88317\n",
       "Nb of sec with 6250B < Vol UL < 37500B      111843\n",
       "Nb of sec with Vol DL < 6250B                  755\n",
       "Nb of sec with Vol UL < 1250B                  793\n",
       "Social Media DL (Bytes)                          0\n",
       "Social Media UL (Bytes)                          0\n",
       "Google DL (Bytes)                                0\n",
       "Google UL (Bytes)                                0\n",
       "Email DL (Bytes)                                 0\n",
       "Email UL (Bytes)                                 0\n",
       "Youtube DL (Bytes)                               0\n",
       "Youtube UL (Bytes)                               0\n",
       "Netflix DL (Bytes)                               0\n",
       "Netflix UL (Bytes)                               0\n",
       "Gaming DL (Bytes)                                0\n",
       "Gaming UL (Bytes)                                0\n",
       "Other DL (Bytes)                                 0\n",
       "Other UL (Bytes)                                 0\n",
       "Total UL (Bytes)                                 1\n",
       "Total DL (Bytes)                                 1\n",
       "dtype: int64"
      ]
     },
     "execution_count": 10,
     "metadata": {},
     "output_type": "execute_result"
    }
   ],
   "source": [
    "df.isnull().sum()"
   ]
  },
  {
   "cell_type": "markdown",
   "metadata": {},
   "source": [
    "## Choosing columns of interest which has missing values."
   ]
  },
  {
   "cell_type": "markdown",
   "metadata": {},
   "source": [
    "### Column : Handset Type"
   ]
  },
  {
   "cell_type": "code",
   "execution_count": 11,
   "metadata": {},
   "outputs": [
    {
     "data": {
      "text/plain": [
       "Huawei B528S-23A                            19752\n",
       "Apple iPhone 6S (A1688)                      9419\n",
       "Apple iPhone 6 (A1586)                       9023\n",
       "undefined                                    8987\n",
       "Apple iPhone 7 (A1778)                       6326\n",
       "                                            ...  \n",
       "Lemobile Informa. Le X527                       1\n",
       "Infinix Technolo. Infinix Surf Bravo            1\n",
       "Concox Informati. Concox Gt06 Gt06N Tr06        1\n",
       "Mptech Hammer Energy 18X9                       1\n",
       "Sony Mobile Comm. Sony Xperia Z2 (D6503)        1\n",
       "Name: Handset Type, Length: 1396, dtype: int64"
      ]
     },
     "execution_count": 11,
     "metadata": {},
     "output_type": "execute_result"
    }
   ],
   "source": [
    "handset_type_count = df['Handset Type'].value_counts()\n",
    "handset_type_count"
   ]
  },
  {
   "cell_type": "markdown",
   "metadata": {},
   "source": [
    "From the value counts above, for the 'Handset Type' column, Huawei B528S-23A has the most frequency or mode. Hence the value will be used to fill missing values in that column."
   ]
  },
  {
   "cell_type": "code",
   "execution_count": 12,
   "metadata": {},
   "outputs": [],
   "source": [
    "# Imputing the missing value in 'Handset value' with 'Huawei B528S-23A'\n",
    "df['Handset Type'].fillna('Huawei B528S-23A', inplace=True)"
   ]
  },
  {
   "cell_type": "code",
   "execution_count": 13,
   "metadata": {},
   "outputs": [
    {
     "data": {
      "text/plain": [
       "0"
      ]
     },
     "execution_count": 13,
     "metadata": {},
     "output_type": "execute_result"
    }
   ],
   "source": [
    "# Checking if the column 'Handset Type' have any missing values\n",
    "df['Handset Type'].isnull().sum()"
   ]
  },
  {
   "cell_type": "markdown",
   "metadata": {},
   "source": [
    "### Column: Handset manufacturer"
   ]
  },
  {
   "cell_type": "code",
   "execution_count": 14,
   "metadata": {},
   "outputs": [
    {
     "data": {
      "text/plain": [
       "Apple                                  59565\n",
       "Samsung                                40839\n",
       "Huawei                                 34423\n",
       "undefined                               8987\n",
       "Sony Mobile Communications Ab            980\n",
       "                                       ...  \n",
       "Doke Communication (Hk) Limited            1\n",
       "Lephone                                    1\n",
       "Kazam Mobile Limited                       1\n",
       "Tianlong International (Hk) Co Ltd         1\n",
       "Hongkong Ipro Technology Co Limited        1\n",
       "Name: Handset Manufacturer, Length: 170, dtype: int64"
      ]
     },
     "execution_count": 14,
     "metadata": {},
     "output_type": "execute_result"
    }
   ],
   "source": [
    "handset_man_count = df['Handset Manufacturer'].value_counts()\n",
    "handset_man_count"
   ]
  },
  {
   "cell_type": "markdown",
   "metadata": {},
   "source": [
    "From the value counts above, Apple is the handset manufucterer with the highest mode, hence can be used to fill the missing values."
   ]
  },
  {
   "cell_type": "code",
   "execution_count": 15,
   "metadata": {},
   "outputs": [],
   "source": [
    "df.loc[df['Handset Manufacturer'].isnull(), 'Handset Manufacturer'] = 'Apple'"
   ]
  },
  {
   "cell_type": "code",
   "execution_count": 16,
   "metadata": {},
   "outputs": [
    {
     "data": {
      "text/plain": [
       "0"
      ]
     },
     "execution_count": 16,
     "metadata": {},
     "output_type": "execute_result"
    }
   ],
   "source": [
    "df['Handset Manufacturer'].isnull().sum()"
   ]
  },
  {
   "cell_type": "markdown",
   "metadata": {},
   "source": [
    "### Column : Total UL"
   ]
  },
  {
   "cell_type": "code",
   "execution_count": 17,
   "metadata": {},
   "outputs": [
    {
     "data": {
      "text/plain": [
       "41143312.0"
      ]
     },
     "execution_count": 17,
     "metadata": {},
     "output_type": "execute_result"
    }
   ],
   "source": [
    "\"\"\"\n",
    "Since Total UL is a numerical column, the median value will be used to fill the missing value.\n",
    "The median value is used since it cannot be easily affected by outliers, unlike using the mean value\n",
    "\"\"\"\n",
    "\n",
    "# Computing the median value for 'Total UL' column\n",
    "totalUL_median_value = df['Total UL (Bytes)'].median()\n",
    "totalUL_median_value"
   ]
  },
  {
   "cell_type": "code",
   "execution_count": 18,
   "metadata": {},
   "outputs": [],
   "source": [
    "# Imputing the missing value in Total UL column with the column's value\n",
    "df['Total UL (Bytes)'].fillna(totalUL_median_value, inplace=True)"
   ]
  },
  {
   "cell_type": "code",
   "execution_count": 19,
   "metadata": {},
   "outputs": [
    {
     "data": {
      "text/plain": [
       "0"
      ]
     },
     "execution_count": 19,
     "metadata": {},
     "output_type": "execute_result"
    }
   ],
   "source": [
    "df['Total UL (Bytes)'].isnull().sum()"
   ]
  },
  {
   "cell_type": "markdown",
   "metadata": {},
   "source": [
    "### Column: Total DL"
   ]
  },
  {
   "cell_type": "code",
   "execution_count": 20,
   "metadata": {},
   "outputs": [
    {
     "data": {
      "text/plain": [
       "455841077.5"
      ]
     },
     "execution_count": 20,
     "metadata": {},
     "output_type": "execute_result"
    }
   ],
   "source": [
    "# Computing the median value for 'Total UL' column\n",
    "totalDL_median_value = df['Total DL (Bytes)'].median()\n",
    "totalDL_median_value"
   ]
  },
  {
   "cell_type": "code",
   "execution_count": 21,
   "metadata": {},
   "outputs": [],
   "source": [
    "# Imputing the missing value in Total DL column with the column's value\n",
    "df['Total DL (Bytes)'].fillna(totalDL_median_value, inplace=True)"
   ]
  },
  {
   "cell_type": "code",
   "execution_count": 22,
   "metadata": {},
   "outputs": [
    {
     "data": {
      "text/plain": [
       "0"
      ]
     },
     "execution_count": 22,
     "metadata": {},
     "output_type": "execute_result"
    }
   ],
   "source": [
    "df['Total DL (Bytes)'].isnull().sum()"
   ]
  },
  {
   "cell_type": "markdown",
   "metadata": {},
   "source": [
    "### Column : Dur. (ms).1"
   ]
  },
  {
   "cell_type": "code",
   "execution_count": 23,
   "metadata": {},
   "outputs": [
    {
     "data": {
      "text/plain": [
       "86399983.0"
      ]
     },
     "execution_count": 23,
     "metadata": {},
     "output_type": "execute_result"
    }
   ],
   "source": [
    "# Computing the median value for 'Dur. (ms).1' column\n",
    "Dur_ms_median_value = df['Dur. (ms).1'].median()\n",
    "Dur_ms_median_value"
   ]
  },
  {
   "cell_type": "code",
   "execution_count": 24,
   "metadata": {},
   "outputs": [],
   "source": [
    "# Imputing the missing value in Total DL column with the column's value\n",
    "df['Dur. (ms).1'].fillna(Dur_ms_median_value, inplace=True)"
   ]
  },
  {
   "cell_type": "code",
   "execution_count": 25,
   "metadata": {},
   "outputs": [
    {
     "data": {
      "text/plain": [
       "0"
      ]
     },
     "execution_count": 25,
     "metadata": {},
     "output_type": "execute_result"
    }
   ],
   "source": [
    "df['Dur. (ms).1'].isnull().sum()"
   ]
  },
  {
   "cell_type": "markdown",
   "metadata": {},
   "source": [
    "### Column : MSISDN/Number "
   ]
  },
  {
   "cell_type": "code",
   "execution_count": 67,
   "metadata": {},
   "outputs": [
    {
     "data": {
      "text/plain": [
       "0"
      ]
     },
     "execution_count": 67,
     "metadata": {},
     "output_type": "execute_result"
    }
   ],
   "source": [
    "# Computing the median value for 'MSISDN/Number' column\n",
    "Msisdn_median = df['MSISDN/Number'].median()\n",
    "\n",
    "# Imputing the missing value in Total DL column with the column's value\n",
    "df['MSISDN/Number'].fillna(Msisdn_median, inplace=True)\n",
    "\n",
    "df['MSISDN/Number'].isnull().sum()"
   ]
  },
  {
   "cell_type": "markdown",
   "metadata": {},
   "source": [
    "#### Column : Avg RTT DL (ms) "
   ]
  },
  {
   "cell_type": "code",
   "execution_count": 68,
   "metadata": {},
   "outputs": [
    {
     "data": {
      "text/plain": [
       "0"
      ]
     },
     "execution_count": 68,
     "metadata": {},
     "output_type": "execute_result"
    }
   ],
   "source": [
    "# Computing the median value for 'MSISDN/Number' column\n",
    "RTT_DL_median = df['Avg RTT DL (ms)'].median()\n",
    "\n",
    "# Imputing the missing value in Total DL column with the column's value\n",
    "df['Avg RTT DL (ms)'].fillna(RTT_DL_median, inplace=True)\n",
    "\n",
    "df['Avg RTT DL (ms)'].isnull().sum()"
   ]
  },
  {
   "cell_type": "markdown",
   "metadata": {},
   "source": [
    "#### Column : Avg RTT UL (ms)"
   ]
  },
  {
   "cell_type": "code",
   "execution_count": 70,
   "metadata": {},
   "outputs": [
    {
     "data": {
      "text/plain": [
       "0"
      ]
     },
     "execution_count": 70,
     "metadata": {},
     "output_type": "execute_result"
    }
   ],
   "source": [
    "# Computing the median value for 'MSISDN/Number' column\n",
    "RTT_UL_median = df['Avg RTT UL (ms)'].median()\n",
    "\n",
    "# Imputing the missing value in Total DL column with the column's value\n",
    "df['Avg RTT UL (ms)'].fillna(RTT_UL_median, inplace=True)\n",
    "\n",
    "df['Avg RTT UL (ms)'].isnull().sum()"
   ]
  },
  {
   "cell_type": "markdown",
   "metadata": {},
   "source": [
    "#### Column : Avg Bearer TP UL (kbps)"
   ]
  },
  {
   "cell_type": "code",
   "execution_count": 78,
   "metadata": {},
   "outputs": [
    {
     "data": {
      "text/plain": [
       "0"
      ]
     },
     "execution_count": 78,
     "metadata": {},
     "output_type": "execute_result"
    }
   ],
   "source": [
    "# Computing the median value for 'MSISDN/Number' column\n",
    "Bearer_TP_UL_median = df['Avg Bearer TP UL (kbps)'].median()\n",
    "\n",
    "# Imputing the missing value in Total DL column with the column's value\n",
    "df['Avg Bearer TP UL (kbps)'].fillna(Bearer_TP_UL_median, inplace=True)\n",
    "\n",
    "df['Avg Bearer TP UL (kbps)'].isnull().sum()"
   ]
  },
  {
   "cell_type": "markdown",
   "metadata": {},
   "source": [
    "#### Column : Avg Bearer TP DL (kbps)"
   ]
  },
  {
   "cell_type": "code",
   "execution_count": 80,
   "metadata": {},
   "outputs": [
    {
     "data": {
      "text/plain": [
       "0"
      ]
     },
     "execution_count": 80,
     "metadata": {},
     "output_type": "execute_result"
    }
   ],
   "source": [
    "# Computing the median value for 'MSISDN/Number' column\n",
    "Bearer_TP_DL_median = df['Avg Bearer TP DL (kbps)'].median()\n",
    "\n",
    "# Imputing the missing value in Total DL column with the column's value\n",
    "df['Avg Bearer TP DL (kbps)'].fillna(Bearer_TP_DL_median, inplace=True)\n",
    "\n",
    "df['Avg Bearer TP DL (kbps)'].isnull().sum()"
   ]
  },
  {
   "cell_type": "markdown",
   "metadata": {},
   "source": [
    "#### Column : TCP DL Retrans. Vol (Bytes)"
   ]
  },
  {
   "cell_type": "code",
   "execution_count": 83,
   "metadata": {},
   "outputs": [
    {
     "data": {
      "text/plain": [
       "0"
      ]
     },
     "execution_count": 83,
     "metadata": {},
     "output_type": "execute_result"
    }
   ],
   "source": [
    "# Computing the median value for 'MSISDN/Number' column\n",
    "TCP_DL_Retrans_median = df['TCP DL Retrans. Vol (Bytes)'].median()\n",
    "\n",
    "# Imputing the missing value in Total DL column with the column's value\n",
    "df['TCP DL Retrans. Vol (Bytes)'].fillna(TCP_DL_Retrans_median, inplace=True)\n",
    "\n",
    "df['TCP DL Retrans. Vol (Bytes)'].isnull().sum()"
   ]
  },
  {
   "cell_type": "markdown",
   "metadata": {},
   "source": [
    "## Detecting with outliers "
   ]
  },
  {
   "cell_type": "code",
   "execution_count": 29,
   "metadata": {},
   "outputs": [
    {
     "data": {
      "image/png": "[encoded data removed]",
      "text/plain": [
       "<Figure size 432x288 with 1 Axes>"
      ]
     },
     "metadata": {
      "needs_background": "light"
     },
     "output_type": "display_data"
    }
   ],
   "source": [
    "sns.boxplot(y=df['Youtube UL (Bytes)'])\n",
    "plt.title('Boxplot : Youtube UL (Bytes)')\n",
    "plt.show()"
   ]
  },
  {
   "cell_type": "code",
   "execution_count": 30,
   "metadata": {},
   "outputs": [
    {
     "data": {
      "image/png": "[encoded data removed]",
      "text/plain": [
       "<Figure size 432x288 with 1 Axes>"
      ]
     },
     "metadata": {
      "needs_background": "light"
     },
     "output_type": "display_data"
    }
   ],
   "source": [
    "sns.boxplot(y=df['Youtube DL (Bytes)'])\n",
    "plt.title('Boxplot : Youtube DL (Bytes)')\n",
    "plt.show()"
   ]
  },
  {
   "cell_type": "code",
   "execution_count": 31,
   "metadata": {},
   "outputs": [
    {
     "data": {
      "image/png": "[encoded data removed]",
      "text/plain": [
       "<Figure size 432x288 with 1 Axes>"
      ]
     },
     "metadata": {
      "needs_background": "light"
     },
     "output_type": "display_data"
    }
   ],
   "source": [
    "df['Netflix DL (Bytes)'].plot(kind='box');\n",
    "plt.title('Boxplot : Netflix DL (Bytes)')\n",
    "plt.show()"
   ]
  },
  {
   "cell_type": "code",
   "execution_count": 32,
   "metadata": {},
   "outputs": [
    {
     "data": {
      "image/png": "[encoded data removed]",
      "text/plain": [
       "<Figure size 432x288 with 1 Axes>"
      ]
     },
     "metadata": {
      "needs_background": "light"
     },
     "output_type": "display_data"
    }
   ],
   "source": [
    "df['Netflix UL (Bytes)'].plot(kind='box');\n",
    "plt.title('Boxplot : Netflix UL (Bytes')\n",
    "plt.show()"
   ]
  },
  {
   "cell_type": "code",
   "execution_count": 33,
   "metadata": {},
   "outputs": [
    {
     "data": {
      "image/png": "[encoded data removed]",
      "text/plain": [
       "<Figure size 432x288 with 1 Axes>"
      ]
     },
     "metadata": {
      "needs_background": "light"
     },
     "output_type": "display_data"
    }
   ],
   "source": [
    "plt.boxplot(df['Gaming DL (Bytes)'].values);\n",
    "plt.title('Boxplot : Gaming DL (Bytes)')\n",
    "plt.show()"
   ]
  },
  {
   "cell_type": "code",
   "execution_count": 34,
   "metadata": {},
   "outputs": [
    {
     "data": {
      "image/png": "[encoded data removed]",
      "text/plain": [
       "<Figure size 432x288 with 1 Axes>"
      ]
     },
     "metadata": {
      "needs_background": "light"
     },
     "output_type": "display_data"
    }
   ],
   "source": [
    "plt.boxplot(df['Gaming UL (Bytes)'].values);\n",
    "plt.title('Boxplot : Gaming UL (Bytes)')\n",
    "plt.show()"
   ]
  },
  {
   "cell_type": "markdown",
   "metadata": {},
   "source": [
    "# Finding the top 10 handsets used by customers"
   ]
  },
  {
   "cell_type": "code",
   "execution_count": 35,
   "metadata": {},
   "outputs": [],
   "source": [
    "# filtering out 'undfined values' from the Handset Type column\n",
    "good_handset_type_values = df[(df['Handset Type'] != 'undefined')]"
   ]
  },
  {
   "cell_type": "code",
   "execution_count": 36,
   "metadata": {},
   "outputs": [
    {
     "data": {
      "text/plain": [
       "0              Samsung Galaxy A5 Sm-A520F\n",
       "1             Samsung Galaxy J5 (Sm-J530)\n",
       "2                Samsung Galaxy A8 (2018)\n",
       "4                        Samsung Sm-G390F\n",
       "6                     Huawei Mate 20 Lite\n",
       "8                Samsung Galaxy A8 (2018)\n",
       "9     Samsung Galaxy Note 8 (Sm-N950F Ds)\n",
       "11                        Huawei B593S-22\n",
       "12             Samsung Galaxy A5 Sm-A520F\n",
       "13    Samsung Galaxy Note 8 (Sm-N950F Ds)\n",
       "Name: Handset Type, dtype: object"
      ]
     },
     "execution_count": 36,
     "metadata": {},
     "output_type": "execute_result"
    }
   ],
   "source": [
    "good_handset_type_values['Handset Type'].head(10)"
   ]
  },
  {
   "cell_type": "code",
   "execution_count": 37,
   "metadata": {},
   "outputs": [],
   "source": [
    "# using value_counts to find the frequency of handsets\n",
    "handset_type_count = good_handset_type_values['Handset Type'].value_counts()"
   ]
  },
  {
   "cell_type": "code",
   "execution_count": 38,
   "metadata": {},
   "outputs": [
    {
     "data": {
      "text/plain": [
       "Huawei B528S-23A                20324\n",
       "Apple iPhone 6S (A1688)          9419\n",
       "Apple iPhone 6 (A1586)           9023\n",
       "Apple iPhone 7 (A1778)           6326\n",
       "Apple iPhone Se (A1723)          5187\n",
       "Apple iPhone 8 (A1905)           4993\n",
       "Apple iPhone Xr (A2105)          4568\n",
       "Samsung Galaxy S8 (Sm-G950F)     4520\n",
       "Apple iPhone X (A1901)           3813\n",
       "Samsung Galaxy A5 Sm-A520F       3724\n",
       "Name: Handset Type, dtype: int64"
      ]
     },
     "execution_count": 38,
     "metadata": {},
     "output_type": "execute_result"
    }
   ],
   "source": [
    "# Since the handset values are already sorted in decending form, using .head(10) gives us the top 10 most used handsets\n",
    "handset_type_count.head(10)"
   ]
  },
  {
   "cell_type": "markdown",
   "metadata": {},
   "source": [
    "# Finding the top 3 handset manufacturers"
   ]
  },
  {
   "cell_type": "code",
   "execution_count": 39,
   "metadata": {},
   "outputs": [],
   "source": [
    "# filtering out 'undfined values' from the Handset Type column\n",
    "good_handset_manuf_values = df[(df['Handset Manufacturer']  != 'undefined')]"
   ]
  },
  {
   "cell_type": "code",
   "execution_count": 40,
   "metadata": {},
   "outputs": [
    {
     "data": {
      "text/plain": [
       "Apple                                  60137\n",
       "Samsung                                40839\n",
       "Huawei                                 34423\n",
       "Sony Mobile Communications Ab            980\n",
       "Wiko Global Sasu                         747\n",
       "                                       ...  \n",
       "Doke Communication (Hk) Limited            1\n",
       "Lephone                                    1\n",
       "Kazam Mobile Limited                       1\n",
       "Tianlong International (Hk) Co Ltd         1\n",
       "Hongkong Ipro Technology Co Limited        1\n",
       "Name: Handset Manufacturer, Length: 169, dtype: int64"
      ]
     },
     "execution_count": 40,
     "metadata": {},
     "output_type": "execute_result"
    }
   ],
   "source": [
    "# using value_counts to find the frequency of handsets\n",
    "handset_manf_count = good_handset_manuf_values['Handset Manufacturer'].value_counts()\n",
    "handset_manf_count"
   ]
  },
  {
   "cell_type": "code",
   "execution_count": 41,
   "metadata": {},
   "outputs": [
    {
     "data": {
      "text/plain": [
       "Apple      60137\n",
       "Samsung    40839\n",
       "Huawei     34423\n",
       "Name: Handset Manufacturer, dtype: int64"
      ]
     },
     "execution_count": 41,
     "metadata": {},
     "output_type": "execute_result"
    }
   ],
   "source": [
    "top3_handset_manf = handset_manf_count.head(3)\n",
    "top3_handset_manf"
   ]
  },
  {
   "cell_type": "markdown",
   "metadata": {},
   "source": [
    "# Identifying top 5 handsets per handset manufacturer"
   ]
  },
  {
   "cell_type": "code",
   "execution_count": 42,
   "metadata": {},
   "outputs": [
    {
     "data": {
      "text/plain": [
       "Apple      60137\n",
       "Samsung    40839\n",
       "Huawei     34423\n",
       "Name: Handset Manufacturer, dtype: int64"
      ]
     },
     "execution_count": 42,
     "metadata": {},
     "output_type": "execute_result"
    }
   ],
   "source": [
    "top3_handset_manf"
   ]
  },
  {
   "cell_type": "code",
   "execution_count": 43,
   "metadata": {},
   "outputs": [],
   "source": [
    "good_handset_manuf = df[(df['Handset Manufacturer'] == 'Apple') |\n",
    "                       (df['Handset Manufacturer'] == 'Samsung') |\n",
    "                       (df['Handset Manufacturer'] == 'Huawei')]"
   ]
  },
  {
   "cell_type": "code",
   "execution_count": 44,
   "metadata": {},
   "outputs": [],
   "source": [
    "good_handset_count = good_handset_manuf.groupby([\"Handset Manufacturer\"])[\"Handset Type\"].value_counts()"
   ]
  },
  {
   "cell_type": "code",
   "execution_count": null,
   "metadata": {},
   "outputs": [],
   "source": []
  },
  {
   "cell_type": "markdown",
   "metadata": {},
   "source": [
    "### Finding relations between variables in the dataset"
   ]
  },
  {
   "cell_type": "code",
   "execution_count": 45,
   "metadata": {},
   "outputs": [
    {
     "data": {
      "text/plain": [
       "0         13114483460844900352\n",
       "1         13114483482878900224\n",
       "2         13114483484080500736\n",
       "3         13114483485442799616\n",
       "4         13114483499480700928\n",
       "                  ...         \n",
       "149996     7277825670196679680\n",
       "149997     7349883264234609664\n",
       "149998    13114483573367300096\n",
       "149999    13114483573367300096\n",
       "150000                        \n",
       "Name: Bearer Id, Length: 150001, dtype: object"
      ]
     },
     "execution_count": 45,
     "metadata": {},
     "output_type": "execute_result"
    }
   ],
   "source": [
    "df['Bearer Id']"
   ]
  },
  {
   "cell_type": "markdown",
   "metadata": {},
   "source": [
    "# Task 1.1"
   ]
  },
  {
   "cell_type": "markdown",
   "metadata": {},
   "source": [
    "## Number of xDR sessions"
   ]
  },
  {
   "cell_type": "code",
   "execution_count": 46,
   "metadata": {},
   "outputs": [],
   "source": [
    "xDR_sessions = df.groupby(['MSISDN/Number']).agg({'Bearer Id': 'count'})"
   ]
  },
  {
   "cell_type": "code",
   "execution_count": 47,
   "metadata": {},
   "outputs": [
    {
     "data": {
      "text/html": [
       "<div>\n",
       "<style scoped>\n",
       "    .dataframe tbody tr th:only-of-type {\n",
       "        vertical-align: middle;\n",
       "    }\n",
       "\n",
       "    .dataframe tbody tr th {\n",
       "        vertical-align: top;\n",
       "    }\n",
       "\n",
       "    .dataframe thead th {\n",
       "        text-align: right;\n",
       "    }\n",
       "</style>\n",
       "<table border=\"1\" class=\"dataframe\">\n",
       "  <thead>\n",
       "    <tr style=\"text-align: right;\">\n",
       "      <th></th>\n",
       "      <th>Bearer Id</th>\n",
       "    </tr>\n",
       "    <tr>\n",
       "      <th>MSISDN/Number</th>\n",
       "      <th></th>\n",
       "    </tr>\n",
       "  </thead>\n",
       "  <tbody>\n",
       "    <tr>\n",
       "      <td>3.360100e+10</td>\n",
       "      <td>1</td>\n",
       "    </tr>\n",
       "    <tr>\n",
       "      <td>3.360100e+10</td>\n",
       "      <td>1</td>\n",
       "    </tr>\n",
       "    <tr>\n",
       "      <td>3.360100e+10</td>\n",
       "      <td>1</td>\n",
       "    </tr>\n",
       "    <tr>\n",
       "      <td>3.360101e+10</td>\n",
       "      <td>1</td>\n",
       "    </tr>\n",
       "    <tr>\n",
       "      <td>3.360101e+10</td>\n",
       "      <td>2</td>\n",
       "    </tr>\n",
       "    <tr>\n",
       "      <td>...</td>\n",
       "      <td>...</td>\n",
       "    </tr>\n",
       "    <tr>\n",
       "      <td>3.379000e+10</td>\n",
       "      <td>1</td>\n",
       "    </tr>\n",
       "    <tr>\n",
       "      <td>3.379000e+10</td>\n",
       "      <td>1</td>\n",
       "    </tr>\n",
       "    <tr>\n",
       "      <td>3.197021e+12</td>\n",
       "      <td>1</td>\n",
       "    </tr>\n",
       "    <tr>\n",
       "      <td>3.370000e+14</td>\n",
       "      <td>1</td>\n",
       "    </tr>\n",
       "    <tr>\n",
       "      <td>8.823971e+14</td>\n",
       "      <td>1</td>\n",
       "    </tr>\n",
       "  </tbody>\n",
       "</table>\n",
       "<p>106856 rows × 1 columns</p>\n",
       "</div>"
      ],
      "text/plain": [
       "               Bearer Id\n",
       "MSISDN/Number           \n",
       "3.360100e+10           1\n",
       "3.360100e+10           1\n",
       "3.360100e+10           1\n",
       "3.360101e+10           1\n",
       "3.360101e+10           2\n",
       "...                  ...\n",
       "3.379000e+10           1\n",
       "3.379000e+10           1\n",
       "3.197021e+12           1\n",
       "3.370000e+14           1\n",
       "8.823971e+14           1\n",
       "\n",
       "[106856 rows x 1 columns]"
      ]
     },
     "execution_count": 47,
     "metadata": {},
     "output_type": "execute_result"
    }
   ],
   "source": [
    "xDR_sessions"
   ]
  },
  {
   "cell_type": "markdown",
   "metadata": {},
   "source": [
    "# Session Duration"
   ]
  },
  {
   "cell_type": "code",
   "execution_count": 48,
   "metadata": {},
   "outputs": [],
   "source": [
    "Session_duration = df.groupby(['MSISDN/Number']).agg({'Dur. (ms)': [sum]})"
   ]
  },
  {
   "cell_type": "code",
   "execution_count": 49,
   "metadata": {},
   "outputs": [
    {
     "data": {
      "text/html": [
       "<div>\n",
       "<style scoped>\n",
       "    .dataframe tbody tr th:only-of-type {\n",
       "        vertical-align: middle;\n",
       "    }\n",
       "\n",
       "    .dataframe tbody tr th {\n",
       "        vertical-align: top;\n",
       "    }\n",
       "\n",
       "    .dataframe thead tr th {\n",
       "        text-align: left;\n",
       "    }\n",
       "\n",
       "    .dataframe thead tr:last-of-type th {\n",
       "        text-align: right;\n",
       "    }\n",
       "</style>\n",
       "<table border=\"1\" class=\"dataframe\">\n",
       "  <thead>\n",
       "    <tr>\n",
       "      <th></th>\n",
       "      <th>Dur. (ms)</th>\n",
       "    </tr>\n",
       "    <tr>\n",
       "      <th></th>\n",
       "      <th>sum</th>\n",
       "    </tr>\n",
       "    <tr>\n",
       "      <th>MSISDN/Number</th>\n",
       "      <th></th>\n",
       "    </tr>\n",
       "  </thead>\n",
       "  <tbody>\n",
       "    <tr>\n",
       "      <td>3.360100e+10</td>\n",
       "      <td>116720.0</td>\n",
       "    </tr>\n",
       "    <tr>\n",
       "      <td>3.360100e+10</td>\n",
       "      <td>181230.0</td>\n",
       "    </tr>\n",
       "    <tr>\n",
       "      <td>3.360100e+10</td>\n",
       "      <td>134969.0</td>\n",
       "    </tr>\n",
       "    <tr>\n",
       "      <td>3.360101e+10</td>\n",
       "      <td>49878.0</td>\n",
       "    </tr>\n",
       "    <tr>\n",
       "      <td>3.360101e+10</td>\n",
       "      <td>37104.0</td>\n",
       "    </tr>\n",
       "    <tr>\n",
       "      <td>...</td>\n",
       "      <td>...</td>\n",
       "    </tr>\n",
       "    <tr>\n",
       "      <td>3.379000e+10</td>\n",
       "      <td>8810.0</td>\n",
       "    </tr>\n",
       "    <tr>\n",
       "      <td>3.379000e+10</td>\n",
       "      <td>140988.0</td>\n",
       "    </tr>\n",
       "    <tr>\n",
       "      <td>3.197021e+12</td>\n",
       "      <td>877385.0</td>\n",
       "    </tr>\n",
       "    <tr>\n",
       "      <td>3.370000e+14</td>\n",
       "      <td>253030.0</td>\n",
       "    </tr>\n",
       "    <tr>\n",
       "      <td>8.823971e+14</td>\n",
       "      <td>869844.0</td>\n",
       "    </tr>\n",
       "  </tbody>\n",
       "</table>\n",
       "<p>106856 rows × 1 columns</p>\n",
       "</div>"
      ],
      "text/plain": [
       "              Dur. (ms)\n",
       "                    sum\n",
       "MSISDN/Number          \n",
       "3.360100e+10   116720.0\n",
       "3.360100e+10   181230.0\n",
       "3.360100e+10   134969.0\n",
       "3.360101e+10    49878.0\n",
       "3.360101e+10    37104.0\n",
       "...                 ...\n",
       "3.379000e+10     8810.0\n",
       "3.379000e+10   140988.0\n",
       "3.197021e+12   877385.0\n",
       "3.370000e+14   253030.0\n",
       "8.823971e+14   869844.0\n",
       "\n",
       "[106856 rows x 1 columns]"
      ]
     },
     "execution_count": 49,
     "metadata": {},
     "output_type": "execute_result"
    }
   ],
   "source": [
    "Session_duration"
   ]
  },
  {
   "cell_type": "markdown",
   "metadata": {},
   "source": [
    "# Total download (DL) and upload (UL) data"
   ]
  },
  {
   "cell_type": "code",
   "execution_count": 50,
   "metadata": {},
   "outputs": [],
   "source": [
    "# renaming columns\n",
    "df = df.rename(columns={'Social Media DL (Bytes)': 'Social_media_DL'})\n",
    "df = df.rename(columns={'Social Media UL (Bytes)': 'Social_media_UL'})\n",
    "\n",
    "df = df.rename(columns={'Google DL (Bytes)': 'Google_DL'})\n",
    "df = df.rename(columns={'Google UL (Bytes)': 'Google_UL'})\n",
    "\n",
    "df = df.rename(columns={'Email DL (Bytes)': 'Email_DL'})\n",
    "df = df.rename(columns={'Email UL (Bytes)': 'Email_UL'})\n",
    "\n",
    "df = df.rename(columns={'Youtube DL (Bytes)': 'Youtube_DL'})\n",
    "df = df.rename(columns={'Youtube UL (Bytes)': 'Youtube_UL'})\n",
    "\n",
    "df = df.rename(columns={'Netflix DL (Bytes)': 'Netflix_DL'})\n",
    "df = df.rename(columns={'Netflix UL (Bytes)': 'Netflix_UL'})\n",
    "\n",
    "df = df.rename(columns={'Gaming DL (Bytes)': 'Gaming_DL'})\n",
    "df = df.rename(columns={'Gaming UL (Bytes)': 'Gaming_UL'})\n",
    "\n",
    "df = df.rename(columns={'Other DL (Bytes)': 'Other_DL'})\n",
    "df = df.rename(columns={'Other UL (Bytes)': 'Other_UL'})"
   ]
  },
  {
   "cell_type": "code",
   "execution_count": 51,
   "metadata": {},
   "outputs": [],
   "source": [
    "# Total download (DL) and upload (UL) data\n",
    "df.eval('Total_Social_media = Social_media_DL + Social_media_UL', inplace=True)\n",
    "df.eval('Total_Google = Google_DL + Google_UL', inplace=True)\n",
    "df.eval('Total_Email = Email_DL + Email_UL', inplace=True)\n",
    "df.eval('Total_Youtube = Youtube_DL + Youtube_UL', inplace=True)\n",
    "df.eval('Total_Netflix = Netflix_DL + Netflix_UL', inplace=True)\n",
    "df.eval('Total_Gaming = Gaming_DL + Gaming_UL', inplace=True)\n",
    "df.eval('Total_Other = Other_DL + Other_UL', inplace=True)\n"
   ]
  },
  {
   "cell_type": "markdown",
   "metadata": {},
   "source": [
    "# Total volume (in Bytes) during the session for each application"
   ]
  },
  {
   "cell_type": "code",
   "execution_count": 52,
   "metadata": {},
   "outputs": [
    {
     "data": {
      "text/html": [
       "<div>\n",
       "<style scoped>\n",
       "    .dataframe tbody tr th:only-of-type {\n",
       "        vertical-align: middle;\n",
       "    }\n",
       "\n",
       "    .dataframe tbody tr th {\n",
       "        vertical-align: top;\n",
       "    }\n",
       "\n",
       "    .dataframe thead tr th {\n",
       "        text-align: left;\n",
       "    }\n",
       "\n",
       "    .dataframe thead tr:last-of-type th {\n",
       "        text-align: right;\n",
       "    }\n",
       "</style>\n",
       "<table border=\"1\" class=\"dataframe\">\n",
       "  <thead>\n",
       "    <tr>\n",
       "      <th></th>\n",
       "      <th>Total_Social_media</th>\n",
       "      <th>Total_Google</th>\n",
       "      <th>Total_Email</th>\n",
       "      <th>Total_Youtube</th>\n",
       "      <th>Total_Netflix</th>\n",
       "      <th>Total_Gaming</th>\n",
       "      <th>Total_Other</th>\n",
       "    </tr>\n",
       "    <tr>\n",
       "      <th></th>\n",
       "      <th>sum</th>\n",
       "      <th>sum</th>\n",
       "      <th>sum</th>\n",
       "      <th>sum</th>\n",
       "      <th>sum</th>\n",
       "      <th>sum</th>\n",
       "      <th>sum</th>\n",
       "    </tr>\n",
       "    <tr>\n",
       "      <th>MSISDN/Number</th>\n",
       "      <th></th>\n",
       "      <th></th>\n",
       "      <th></th>\n",
       "      <th></th>\n",
       "      <th></th>\n",
       "      <th></th>\n",
       "      <th></th>\n",
       "    </tr>\n",
       "  </thead>\n",
       "  <tbody>\n",
       "    <tr>\n",
       "      <td>3.360100e+10</td>\n",
       "      <td>2232135.0</td>\n",
       "      <td>4389005.0</td>\n",
       "      <td>1331362.0</td>\n",
       "      <td>21624548.0</td>\n",
       "      <td>27180981.0</td>\n",
       "      <td>8.124587e+08</td>\n",
       "      <td>386570872.0</td>\n",
       "    </tr>\n",
       "    <tr>\n",
       "      <td>3.360100e+10</td>\n",
       "      <td>2660565.0</td>\n",
       "      <td>5334863.0</td>\n",
       "      <td>3307781.0</td>\n",
       "      <td>12432223.0</td>\n",
       "      <td>11221763.0</td>\n",
       "      <td>1.197501e+08</td>\n",
       "      <td>281710071.0</td>\n",
       "    </tr>\n",
       "    <tr>\n",
       "      <td>3.360100e+10</td>\n",
       "      <td>3195623.0</td>\n",
       "      <td>3443126.0</td>\n",
       "      <td>3205380.0</td>\n",
       "      <td>21333570.0</td>\n",
       "      <td>19353900.0</td>\n",
       "      <td>5.388277e+08</td>\n",
       "      <td>501693672.0</td>\n",
       "    </tr>\n",
       "    <tr>\n",
       "      <td>3.360101e+10</td>\n",
       "      <td>280294.0</td>\n",
       "      <td>9678493.0</td>\n",
       "      <td>2284670.0</td>\n",
       "      <td>6977321.0</td>\n",
       "      <td>1942092.0</td>\n",
       "      <td>3.911261e+08</td>\n",
       "      <td>35279702.0</td>\n",
       "    </tr>\n",
       "    <tr>\n",
       "      <td>3.360101e+10</td>\n",
       "      <td>2912542.0</td>\n",
       "      <td>18499616.0</td>\n",
       "      <td>3305469.0</td>\n",
       "      <td>41533002.0</td>\n",
       "      <td>49201724.0</td>\n",
       "      <td>1.314798e+09</td>\n",
       "      <td>804804484.0</td>\n",
       "    </tr>\n",
       "    <tr>\n",
       "      <td>...</td>\n",
       "      <td>...</td>\n",
       "      <td>...</td>\n",
       "      <td>...</td>\n",
       "      <td>...</td>\n",
       "      <td>...</td>\n",
       "      <td>...</td>\n",
       "      <td>...</td>\n",
       "    </tr>\n",
       "    <tr>\n",
       "      <td>3.379000e+10</td>\n",
       "      <td>300183.0</td>\n",
       "      <td>7531269.0</td>\n",
       "      <td>1006915.0</td>\n",
       "      <td>26647843.0</td>\n",
       "      <td>14902538.0</td>\n",
       "      <td>6.603614e+08</td>\n",
       "      <td>295282817.0</td>\n",
       "    </tr>\n",
       "    <tr>\n",
       "      <td>3.379000e+10</td>\n",
       "      <td>498569.0</td>\n",
       "      <td>5429705.0</td>\n",
       "      <td>2514097.0</td>\n",
       "      <td>19851572.0</td>\n",
       "      <td>8531060.0</td>\n",
       "      <td>4.370033e+08</td>\n",
       "      <td>211115113.0</td>\n",
       "    </tr>\n",
       "    <tr>\n",
       "      <td>3.197021e+12</td>\n",
       "      <td>715224.0</td>\n",
       "      <td>10438660.0</td>\n",
       "      <td>1520771.0</td>\n",
       "      <td>11959905.0</td>\n",
       "      <td>26592300.0</td>\n",
       "      <td>1.780487e+08</td>\n",
       "      <td>470526473.0</td>\n",
       "    </tr>\n",
       "    <tr>\n",
       "      <td>3.370000e+14</td>\n",
       "      <td>521566.0</td>\n",
       "      <td>9830617.0</td>\n",
       "      <td>3318582.0</td>\n",
       "      <td>36734940.0</td>\n",
       "      <td>30905042.0</td>\n",
       "      <td>5.101427e+08</td>\n",
       "      <td>149188439.0</td>\n",
       "    </tr>\n",
       "    <tr>\n",
       "      <td>8.823971e+14</td>\n",
       "      <td>1546088.0</td>\n",
       "      <td>9218647.0</td>\n",
       "      <td>3330974.0</td>\n",
       "      <td>40940710.0</td>\n",
       "      <td>28846230.0</td>\n",
       "      <td>4.307026e+07</td>\n",
       "      <td>401360457.0</td>\n",
       "    </tr>\n",
       "  </tbody>\n",
       "</table>\n",
       "<p>106856 rows × 7 columns</p>\n",
       "</div>"
      ],
      "text/plain": [
       "              Total_Social_media Total_Google Total_Email Total_Youtube  \\\n",
       "                             sum          sum         sum           sum   \n",
       "MSISDN/Number                                                             \n",
       "3.360100e+10           2232135.0    4389005.0   1331362.0    21624548.0   \n",
       "3.360100e+10           2660565.0    5334863.0   3307781.0    12432223.0   \n",
       "3.360100e+10           3195623.0    3443126.0   3205380.0    21333570.0   \n",
       "3.360101e+10            280294.0    9678493.0   2284670.0     6977321.0   \n",
       "3.360101e+10           2912542.0   18499616.0   3305469.0    41533002.0   \n",
       "...                          ...          ...         ...           ...   \n",
       "3.379000e+10            300183.0    7531269.0   1006915.0    26647843.0   \n",
       "3.379000e+10            498569.0    5429705.0   2514097.0    19851572.0   \n",
       "3.197021e+12            715224.0   10438660.0   1520771.0    11959905.0   \n",
       "3.370000e+14            521566.0    9830617.0   3318582.0    36734940.0   \n",
       "8.823971e+14           1546088.0    9218647.0   3330974.0    40940710.0   \n",
       "\n",
       "              Total_Netflix  Total_Gaming  Total_Other  \n",
       "                        sum           sum          sum  \n",
       "MSISDN/Number                                           \n",
       "3.360100e+10     27180981.0  8.124587e+08  386570872.0  \n",
       "3.360100e+10     11221763.0  1.197501e+08  281710071.0  \n",
       "3.360100e+10     19353900.0  5.388277e+08  501693672.0  \n",
       "3.360101e+10      1942092.0  3.911261e+08   35279702.0  \n",
       "3.360101e+10     49201724.0  1.314798e+09  804804484.0  \n",
       "...                     ...           ...          ...  \n",
       "3.379000e+10     14902538.0  6.603614e+08  295282817.0  \n",
       "3.379000e+10      8531060.0  4.370033e+08  211115113.0  \n",
       "3.197021e+12     26592300.0  1.780487e+08  470526473.0  \n",
       "3.370000e+14     30905042.0  5.101427e+08  149188439.0  \n",
       "8.823971e+14     28846230.0  4.307026e+07  401360457.0  \n",
       "\n",
       "[106856 rows x 7 columns]"
      ]
     },
     "execution_count": 52,
     "metadata": {},
     "output_type": "execute_result"
    }
   ],
   "source": [
    "df.groupby(['MSISDN/Number']).agg({'Total_Social_media': [sum],\n",
    "                                  'Total_Google': [sum],\n",
    "                                  'Total_Email': [sum],\n",
    "                                  'Total_Youtube': [sum],\n",
    "                                  'Total_Netflix': [sum],\n",
    "                                  'Total_Gaming': [sum],\n",
    "                                  'Total_Other': [sum]})"
   ]
  },
  {
   "cell_type": "markdown",
   "metadata": {},
   "source": [
    "# Task 1.2"
   ]
  },
  {
   "cell_type": "markdown",
   "metadata": {},
   "source": [
    "## Non-Graphical Univariate Analysis"
   ]
  },
  {
   "cell_type": "markdown",
   "metadata": {},
   "source": [
    "### Central measure"
   ]
  },
  {
   "cell_type": "code",
   "execution_count": 55,
   "metadata": {},
   "outputs": [
    {
     "data": {
      "text/html": [
       "<div>\n",
       "<style scoped>\n",
       "    .dataframe tbody tr th:only-of-type {\n",
       "        vertical-align: middle;\n",
       "    }\n",
       "\n",
       "    .dataframe tbody tr th {\n",
       "        vertical-align: top;\n",
       "    }\n",
       "\n",
       "    .dataframe thead th {\n",
       "        text-align: right;\n",
       "    }\n",
       "</style>\n",
       "<table border=\"1\" class=\"dataframe\">\n",
       "  <thead>\n",
       "    <tr style=\"text-align: right;\">\n",
       "      <th></th>\n",
       "      <th>Start ms</th>\n",
       "      <th>End ms</th>\n",
       "      <th>Dur. (ms)</th>\n",
       "      <th>IMSI</th>\n",
       "      <th>MSISDN/Number</th>\n",
       "      <th>IMEI</th>\n",
       "      <th>Avg RTT DL (ms)</th>\n",
       "      <th>Avg RTT UL (ms)</th>\n",
       "      <th>Avg Bearer TP DL (kbps)</th>\n",
       "      <th>Avg Bearer TP UL (kbps)</th>\n",
       "      <th>...</th>\n",
       "      <th>Other_UL</th>\n",
       "      <th>Total UL (Bytes)</th>\n",
       "      <th>Total DL (Bytes)</th>\n",
       "      <th>Total_Social_media</th>\n",
       "      <th>Total_Google</th>\n",
       "      <th>Total_Email</th>\n",
       "      <th>Total_Youtube</th>\n",
       "      <th>Total_Netflix</th>\n",
       "      <th>Total_Gaming</th>\n",
       "      <th>Total_Other</th>\n",
       "    </tr>\n",
       "  </thead>\n",
       "  <tbody>\n",
       "    <tr>\n",
       "      <td>count</td>\n",
       "      <td>150000.000000</td>\n",
       "      <td>150000.000000</td>\n",
       "      <td>1.500000e+05</td>\n",
       "      <td>1.494310e+05</td>\n",
       "      <td>1.500010e+05</td>\n",
       "      <td>1.494290e+05</td>\n",
       "      <td>122172.000000</td>\n",
       "      <td>122189.000000</td>\n",
       "      <td>150000.000000</td>\n",
       "      <td>150000.000000</td>\n",
       "      <td>...</td>\n",
       "      <td>1.500010e+05</td>\n",
       "      <td>1.500010e+05</td>\n",
       "      <td>1.500010e+05</td>\n",
       "      <td>1.500010e+05</td>\n",
       "      <td>1.500010e+05</td>\n",
       "      <td>1.500010e+05</td>\n",
       "      <td>1.500010e+05</td>\n",
       "      <td>1.500010e+05</td>\n",
       "      <td>1.500010e+05</td>\n",
       "      <td>1.500010e+05</td>\n",
       "    </tr>\n",
       "    <tr>\n",
       "      <td>mean</td>\n",
       "      <td>499.188200</td>\n",
       "      <td>498.800880</td>\n",
       "      <td>1.046086e+05</td>\n",
       "      <td>2.082016e+14</td>\n",
       "      <td>4.182441e+10</td>\n",
       "      <td>4.847455e+13</td>\n",
       "      <td>109.795706</td>\n",
       "      <td>17.662883</td>\n",
       "      <td>13300.045927</td>\n",
       "      <td>1770.428647</td>\n",
       "      <td>...</td>\n",
       "      <td>8.264799e+06</td>\n",
       "      <td>4.112121e+07</td>\n",
       "      <td>4.546434e+08</td>\n",
       "      <td>1.828250e+06</td>\n",
       "      <td>7.807295e+06</td>\n",
       "      <td>2.259102e+06</td>\n",
       "      <td>2.264348e+07</td>\n",
       "      <td>2.262861e+07</td>\n",
       "      <td>4.303331e+08</td>\n",
       "      <td>4.293653e+08</td>\n",
       "    </tr>\n",
       "    <tr>\n",
       "      <td>std</td>\n",
       "      <td>288.611834</td>\n",
       "      <td>288.097653</td>\n",
       "      <td>8.103762e+04</td>\n",
       "      <td>2.148809e+10</td>\n",
       "      <td>2.438731e+12</td>\n",
       "      <td>2.241637e+13</td>\n",
       "      <td>619.782739</td>\n",
       "      <td>84.793524</td>\n",
       "      <td>23971.878541</td>\n",
       "      <td>4625.355500</td>\n",
       "      <td>...</td>\n",
       "      <td>4.769004e+06</td>\n",
       "      <td>1.127635e+07</td>\n",
       "      <td>2.441421e+08</td>\n",
       "      <td>1.035646e+06</td>\n",
       "      <td>3.516420e+06</td>\n",
       "      <td>1.071109e+06</td>\n",
       "      <td>9.246800e+06</td>\n",
       "      <td>9.260820e+06</td>\n",
       "      <td>2.440199e+08</td>\n",
       "      <td>2.432681e+08</td>\n",
       "    </tr>\n",
       "    <tr>\n",
       "      <td>min</td>\n",
       "      <td>0.000000</td>\n",
       "      <td>0.000000</td>\n",
       "      <td>7.142000e+03</td>\n",
       "      <td>2.040471e+14</td>\n",
       "      <td>3.360100e+10</td>\n",
       "      <td>4.400152e+11</td>\n",
       "      <td>0.000000</td>\n",
       "      <td>0.000000</td>\n",
       "      <td>0.000000</td>\n",
       "      <td>0.000000</td>\n",
       "      <td>...</td>\n",
       "      <td>1.480000e+02</td>\n",
       "      <td>2.866892e+06</td>\n",
       "      <td>7.114041e+06</td>\n",
       "      <td>1.563000e+03</td>\n",
       "      <td>4.033000e+04</td>\n",
       "      <td>8.359000e+03</td>\n",
       "      <td>7.890300e+04</td>\n",
       "      <td>9.843200e+04</td>\n",
       "      <td>3.063580e+05</td>\n",
       "      <td>1.490450e+05</td>\n",
       "    </tr>\n",
       "    <tr>\n",
       "      <td>25%</td>\n",
       "      <td>250.000000</td>\n",
       "      <td>251.000000</td>\n",
       "      <td>5.744050e+04</td>\n",
       "      <td>2.082014e+14</td>\n",
       "      <td>3.365151e+10</td>\n",
       "      <td>3.546071e+13</td>\n",
       "      <td>32.000000</td>\n",
       "      <td>2.000000</td>\n",
       "      <td>43.000000</td>\n",
       "      <td>47.000000</td>\n",
       "      <td>...</td>\n",
       "      <td>4.145943e+06</td>\n",
       "      <td>3.322203e+07</td>\n",
       "      <td>2.431072e+08</td>\n",
       "      <td>9.322180e+05</td>\n",
       "      <td>4.943599e+06</td>\n",
       "      <td>1.359344e+06</td>\n",
       "      <td>1.599846e+07</td>\n",
       "      <td>1.597946e+07</td>\n",
       "      <td>2.187279e+08</td>\n",
       "      <td>2.185534e+08</td>\n",
       "    </tr>\n",
       "    <tr>\n",
       "      <td>50%</td>\n",
       "      <td>499.000000</td>\n",
       "      <td>500.000000</td>\n",
       "      <td>8.639900e+04</td>\n",
       "      <td>2.082015e+14</td>\n",
       "      <td>3.366371e+10</td>\n",
       "      <td>3.572201e+13</td>\n",
       "      <td>45.000000</td>\n",
       "      <td>5.000000</td>\n",
       "      <td>63.000000</td>\n",
       "      <td>63.000000</td>\n",
       "      <td>...</td>\n",
       "      <td>8.267071e+06</td>\n",
       "      <td>4.114331e+07</td>\n",
       "      <td>4.558411e+08</td>\n",
       "      <td>1.826471e+06</td>\n",
       "      <td>7.812835e+06</td>\n",
       "      <td>2.263567e+06</td>\n",
       "      <td>2.266177e+07</td>\n",
       "      <td>2.263554e+07</td>\n",
       "      <td>4.316150e+08</td>\n",
       "      <td>4.299865e+08</td>\n",
       "    </tr>\n",
       "    <tr>\n",
       "      <td>75%</td>\n",
       "      <td>749.000000</td>\n",
       "      <td>750.000000</td>\n",
       "      <td>1.324302e+05</td>\n",
       "      <td>2.082018e+14</td>\n",
       "      <td>3.368307e+10</td>\n",
       "      <td>8.611970e+13</td>\n",
       "      <td>70.000000</td>\n",
       "      <td>15.000000</td>\n",
       "      <td>19710.750000</td>\n",
       "      <td>1120.000000</td>\n",
       "      <td>...</td>\n",
       "      <td>1.238415e+07</td>\n",
       "      <td>4.903424e+07</td>\n",
       "      <td>6.657051e+08</td>\n",
       "      <td>2.727487e+06</td>\n",
       "      <td>1.068280e+07</td>\n",
       "      <td>3.159818e+06</td>\n",
       "      <td>2.929260e+07</td>\n",
       "      <td>2.929044e+07</td>\n",
       "      <td>6.414159e+08</td>\n",
       "      <td>6.399275e+08</td>\n",
       "    </tr>\n",
       "    <tr>\n",
       "      <td>max</td>\n",
       "      <td>999.000000</td>\n",
       "      <td>999.000000</td>\n",
       "      <td>1.859336e+06</td>\n",
       "      <td>2.140743e+14</td>\n",
       "      <td>8.823971e+14</td>\n",
       "      <td>9.900120e+13</td>\n",
       "      <td>96923.000000</td>\n",
       "      <td>7120.000000</td>\n",
       "      <td>378160.000000</td>\n",
       "      <td>58613.000000</td>\n",
       "      <td>...</td>\n",
       "      <td>1.655882e+07</td>\n",
       "      <td>7.833131e+07</td>\n",
       "      <td>9.029696e+08</td>\n",
       "      <td>3.650861e+06</td>\n",
       "      <td>1.552878e+07</td>\n",
       "      <td>4.518036e+06</td>\n",
       "      <td>4.519008e+07</td>\n",
       "      <td>4.519815e+07</td>\n",
       "      <td>8.592028e+08</td>\n",
       "      <td>8.595209e+08</td>\n",
       "    </tr>\n",
       "  </tbody>\n",
       "</table>\n",
       "<p>8 rows × 56 columns</p>\n",
       "</div>"
      ],
      "text/plain": [
       "            Start ms         End ms     Dur. (ms)          IMSI  \\\n",
       "count  150000.000000  150000.000000  1.500000e+05  1.494310e+05   \n",
       "mean      499.188200     498.800880  1.046086e+05  2.082016e+14   \n",
       "std       288.611834     288.097653  8.103762e+04  2.148809e+10   \n",
       "min         0.000000       0.000000  7.142000e+03  2.040471e+14   \n",
       "25%       250.000000     251.000000  5.744050e+04  2.082014e+14   \n",
       "50%       499.000000     500.000000  8.639900e+04  2.082015e+14   \n",
       "75%       749.000000     750.000000  1.324302e+05  2.082018e+14   \n",
       "max       999.000000     999.000000  1.859336e+06  2.140743e+14   \n",
       "\n",
       "       MSISDN/Number          IMEI  Avg RTT DL (ms)  Avg RTT UL (ms)  \\\n",
       "count   1.500010e+05  1.494290e+05    122172.000000    122189.000000   \n",
       "mean    4.182441e+10  4.847455e+13       109.795706        17.662883   \n",
       "std     2.438731e+12  2.241637e+13       619.782739        84.793524   \n",
       "min     3.360100e+10  4.400152e+11         0.000000         0.000000   \n",
       "25%     3.365151e+10  3.546071e+13        32.000000         2.000000   \n",
       "50%     3.366371e+10  3.572201e+13        45.000000         5.000000   \n",
       "75%     3.368307e+10  8.611970e+13        70.000000        15.000000   \n",
       "max     8.823971e+14  9.900120e+13     96923.000000      7120.000000   \n",
       "\n",
       "       Avg Bearer TP DL (kbps)  Avg Bearer TP UL (kbps)  ...      Other_UL  \\\n",
       "count            150000.000000            150000.000000  ...  1.500010e+05   \n",
       "mean              13300.045927              1770.428647  ...  8.264799e+06   \n",
       "std               23971.878541              4625.355500  ...  4.769004e+06   \n",
       "min                   0.000000                 0.000000  ...  1.480000e+02   \n",
       "25%                  43.000000                47.000000  ...  4.145943e+06   \n",
       "50%                  63.000000                63.000000  ...  8.267071e+06   \n",
       "75%               19710.750000              1120.000000  ...  1.238415e+07   \n",
       "max              378160.000000             58613.000000  ...  1.655882e+07   \n",
       "\n",
       "       Total UL (Bytes)  Total DL (Bytes)  Total_Social_media  Total_Google  \\\n",
       "count      1.500010e+05      1.500010e+05        1.500010e+05  1.500010e+05   \n",
       "mean       4.112121e+07      4.546434e+08        1.828250e+06  7.807295e+06   \n",
       "std        1.127635e+07      2.441421e+08        1.035646e+06  3.516420e+06   \n",
       "min        2.866892e+06      7.114041e+06        1.563000e+03  4.033000e+04   \n",
       "25%        3.322203e+07      2.431072e+08        9.322180e+05  4.943599e+06   \n",
       "50%        4.114331e+07      4.558411e+08        1.826471e+06  7.812835e+06   \n",
       "75%        4.903424e+07      6.657051e+08        2.727487e+06  1.068280e+07   \n",
       "max        7.833131e+07      9.029696e+08        3.650861e+06  1.552878e+07   \n",
       "\n",
       "        Total_Email  Total_Youtube  Total_Netflix  Total_Gaming   Total_Other  \n",
       "count  1.500010e+05   1.500010e+05   1.500010e+05  1.500010e+05  1.500010e+05  \n",
       "mean   2.259102e+06   2.264348e+07   2.262861e+07  4.303331e+08  4.293653e+08  \n",
       "std    1.071109e+06   9.246800e+06   9.260820e+06  2.440199e+08  2.432681e+08  \n",
       "min    8.359000e+03   7.890300e+04   9.843200e+04  3.063580e+05  1.490450e+05  \n",
       "25%    1.359344e+06   1.599846e+07   1.597946e+07  2.187279e+08  2.185534e+08  \n",
       "50%    2.263567e+06   2.266177e+07   2.263554e+07  4.316150e+08  4.299865e+08  \n",
       "75%    3.159818e+06   2.929260e+07   2.929044e+07  6.414159e+08  6.399275e+08  \n",
       "max    4.518036e+06   4.519008e+07   4.519815e+07  8.592028e+08  8.595209e+08  \n",
       "\n",
       "[8 rows x 56 columns]"
      ]
     },
     "execution_count": 55,
     "metadata": {},
     "output_type": "execute_result"
    }
   ],
   "source": [
    "df.describe()"
   ]
  },
  {
   "cell_type": "markdown",
   "metadata": {},
   "source": [
    "#### Column : Start ms \t "
   ]
  },
  {
   "cell_type": "code",
   "execution_count": 58,
   "metadata": {},
   "outputs": [
    {
     "name": "stdout",
     "output_type": "stream",
     "text": [
      "Mean Start ms : 499.1882\n",
      "Median Start ms : 499.0\n"
     ]
    }
   ],
   "source": [
    "# Centrality measures\n",
    "print('Mean Start ms : {0}'.format(df['Start ms'].mean())) # mean\n",
    "print('Median Start ms : {0}'.format(df['Start ms'].median())) # median"
   ]
  },
  {
   "cell_type": "markdown",
   "metadata": {},
   "source": [
    "#### Column : End ms"
   ]
  },
  {
   "cell_type": "code",
   "execution_count": 59,
   "metadata": {},
   "outputs": [
    {
     "name": "stdout",
     "output_type": "stream",
     "text": [
      "Mean End ms : 498.80088\n",
      "Median End ms : 500.0\n"
     ]
    }
   ],
   "source": [
    "# Centrality measures\n",
    "print('Mean End ms : {0}'.format(df['End ms'].mean())) # mean\n",
    "print('Median End ms : {0}'.format(df['End ms'].median())) # median"
   ]
  },
  {
   "cell_type": "markdown",
   "metadata": {},
   "source": [
    "#### Column : Dur. (ms)"
   ]
  },
  {
   "cell_type": "code",
   "execution_count": 61,
   "metadata": {},
   "outputs": [
    {
     "name": "stdout",
     "output_type": "stream",
     "text": [
      "Mean Dur. (ms) : 104608.56034666667\n",
      "Median Dur. (ms) : 86399.0\n"
     ]
    }
   ],
   "source": [
    "# Centrality measures\n",
    "print('Mean Dur. (ms) : {0}'.format(df['Dur. (ms)'].mean())) # mean\n",
    "print('Median Dur. (ms) : {0}'.format(df['Dur. (ms)'].median())) # median"
   ]
  },
  {
   "cell_type": "markdown",
   "metadata": {},
   "source": [
    "#### Column : IMSI"
   ]
  },
  {
   "cell_type": "code",
   "execution_count": 62,
   "metadata": {},
   "outputs": [
    {
     "name": "stdout",
     "output_type": "stream",
     "text": [
      "Mean IMSI : 208201639651672.22\n",
      "Median IMSI : 208201546329113.0\n"
     ]
    }
   ],
   "source": [
    "# Centrality measures\n",
    "print('Mean IMSI : {0}'.format(df['IMSI'].mean())) # mean\n",
    "print('Median IMSI : {0}'.format(df['IMSI'].median())) # median"
   ]
  },
  {
   "cell_type": "markdown",
   "metadata": {},
   "source": [
    "#### Column : MSISDN/Number \t"
   ]
  },
  {
   "cell_type": "code",
   "execution_count": 63,
   "metadata": {},
   "outputs": [
    {
     "name": "stdout",
     "output_type": "stream",
     "text": [
      "Mean MSISDN/Number : 41824409439.84629\n",
      "Median MSISDN/Number : 33663706799.0\n"
     ]
    }
   ],
   "source": [
    "# Centrality measures\n",
    "print('Mean MSISDN/Number : {0}'.format(df['MSISDN/Number'].mean())) # mean\n",
    "print('Median MSISDN/Number : {0}'.format(df['MSISDN/Number'].median())) # median"
   ]
  },
  {
   "cell_type": "markdown",
   "metadata": {},
   "source": [
    "#### Column : IMEI"
   ]
  },
  {
   "cell_type": "code",
   "execution_count": 64,
   "metadata": {},
   "outputs": [
    {
     "name": "stdout",
     "output_type": "stream",
     "text": [
      "Mean IMEI : 48474547977654.164\n",
      "Median IMEI : 35722009426311.0\n"
     ]
    }
   ],
   "source": [
    "# Centrality measures\n",
    "print('Mean IMEI : {0}'.format(df['IMEI'].mean())) # mean\n",
    "print('Median IMEI : {0}'.format(df['IMEI'].median())) # median"
   ]
  },
  {
   "cell_type": "markdown",
   "metadata": {},
   "source": [
    "#### Column : Avg RTT DL (ms)"
   ]
  },
  {
   "cell_type": "code",
   "execution_count": 71,
   "metadata": {},
   "outputs": [
    {
     "name": "stdout",
     "output_type": "stream",
     "text": [
      "Mean Avg RTT DL (ms) : 97.77445483696775\n",
      "Median Avg RTT DL (ms) : 45.0\n"
     ]
    }
   ],
   "source": [
    "# Centrality measures\n",
    "print('Mean Avg RTT DL (ms) : {0}'.format(df['Avg RTT DL (ms)'].mean())) # mean\n",
    "print('Median Avg RTT DL (ms) : {0}'.format(df['Avg RTT DL (ms)'].median())) # median"
   ]
  },
  {
   "cell_type": "markdown",
   "metadata": {},
   "source": [
    "#### Column  : Avg RTT UL (ms)"
   ]
  },
  {
   "cell_type": "code",
   "execution_count": 73,
   "metadata": {},
   "outputs": [
    {
     "name": "stdout",
     "output_type": "stream",
     "text": [
      "Mean Avg RTT UL (ms) : 15.315031233125113\n",
      "Median Avg RTT UL (ms) : 5.0\n"
     ]
    }
   ],
   "source": [
    "# Centrality measures\n",
    "print('Mean Avg RTT UL (ms) : {0}'.format(df['Avg RTT UL (ms)'].mean())) # mean\n",
    "print('Median Avg RTT UL (ms) : {0}'.format(df['Avg RTT UL (ms)'].median())) # median"
   ]
  },
  {
   "cell_type": "markdown",
   "metadata": {},
   "source": [
    "#### Column : Avg Bearer TP DL (kbps)"
   ]
  },
  {
   "cell_type": "code",
   "execution_count": 81,
   "metadata": {},
   "outputs": [
    {
     "name": "stdout",
     "output_type": "stream",
     "text": [
      "Mean Avg Bearer TP DL (kbps) : 13299.957680282132\n",
      "Median Avg Bearer TP DL (kbps): 63.0\n"
     ]
    }
   ],
   "source": [
    "# Centrality measures\n",
    "print('Mean Avg Bearer TP DL (kbps) : {0}'.format(df['Avg Bearer TP DL (kbps)'].mean())) # mean\n",
    "print('Median Avg Bearer TP DL (kbps): {0}'.format(df['Avg Bearer TP DL (kbps)'].median())) # median"
   ]
  },
  {
   "cell_type": "markdown",
   "metadata": {},
   "source": [
    "#### Column : Avg Bearer TP UL (kbps)"
   ]
  },
  {
   "cell_type": "code",
   "execution_count": 82,
   "metadata": {},
   "outputs": [
    {
     "name": "stdout",
     "output_type": "stream",
     "text": [
      "Mean Avg Bearer TP UL (kbps) : 1770.4172638849075\n",
      "Median Avg Bearer TP UL (kbps): 63.0\n"
     ]
    }
   ],
   "source": [
    "# Centrality measures\n",
    "print('Mean Avg Bearer TP UL (kbps) : {0}'.format(df['Avg Bearer TP UL (kbps)'].mean())) # mean\n",
    "print('Median Avg Bearer TP UL (kbps): {0}'.format(df['Avg Bearer TP UL (kbps)'].median())) # median"
   ]
  },
  {
   "cell_type": "markdown",
   "metadata": {},
   "source": [
    "#### Column : TCP DL Retrans. Vol (Bytes)"
   ]
  },
  {
   "cell_type": "code",
   "execution_count": 84,
   "metadata": {},
   "outputs": [
    {
     "name": "stdout",
     "output_type": "stream",
     "text": [
      "Mean TCP DL Retrans. Vol (Bytes) : 8915464.042053053\n",
      "Median TCP DL Retrans. Vol (Bytes): 568730.0\n"
     ]
    }
   ],
   "source": [
    "# Centrality measures\n",
    "print('Mean TCP DL Retrans. Vol (Bytes) : {0}'.format(df['TCP DL Retrans. Vol (Bytes)'].mean())) # mean\n",
    "print('Median TCP DL Retrans. Vol (Bytes): {0}'.format(df['TCP DL Retrans. Vol (Bytes)'].median())) # median"
   ]
  },
  {
   "cell_type": "markdown",
   "metadata": {},
   "source": [
    "#### Column : TCP UL Retrans. Vol (Bytes)"
   ]
  },
  {
   "cell_type": "code",
   "execution_count": 85,
   "metadata": {},
   "outputs": [
    {
     "name": "stdout",
     "output_type": "stream",
     "text": [
      "Mean TCP UL Retrans. Vol (Bytes) : 759658.6648110661\n",
      "Median TCP UL Retrans. Vol (Bytes): 20949.5\n"
     ]
    }
   ],
   "source": [
    "# Centrality measures\n",
    "print('Mean TCP UL Retrans. Vol (Bytes) : {0}'.format(df['TCP UL Retrans. Vol (Bytes)'].mean())) # mean\n",
    "print('Median TCP UL Retrans. Vol (Bytes): {0}'.format(df['TCP UL Retrans. Vol (Bytes)'].median())) # median"
   ]
  },
  {
   "cell_type": "code",
   "execution_count": null,
   "metadata": {},
   "outputs": [],
   "source": []
  }
 ],
 "metadata": {
  "kernelspec": {
   "display_name": "Python 3",
   "language": "python",
   "name": "python3"
  },
  "language_info": {
   "codemirror_mode": {
    "name": "ipython",
    "version": 3
   },
   "file_extension": ".py",
   "mimetype": "text/x-python",
   "name": "python",
   "nbconvert_exporter": "python",
   "pygments_lexer": "ipython3",
   "version": "3.7.4"
  }
 },
 "nbformat": 4,
 "nbformat_minor": 4
}
